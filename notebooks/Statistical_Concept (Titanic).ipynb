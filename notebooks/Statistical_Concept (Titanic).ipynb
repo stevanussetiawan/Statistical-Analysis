{
 "cells": [
  {
   "cell_type": "markdown",
   "metadata": {},
   "source": [
    "# Statistical Concept (Titanic dataset)"
   ]
  },
  {
   "cell_type": "code",
   "execution_count": 1,
   "metadata": {
    "ExecuteTime": {
     "end_time": "2020-07-04T18:25:14.533807Z",
     "start_time": "2020-07-04T18:25:12.268558Z"
    }
   },
   "outputs": [],
   "source": [
    "import pandas as pd\n",
    "import numpy as np\n",
    "import matplotlib.pyplot as plt\n",
    "import seaborn as sns"
   ]
  },
  {
   "cell_type": "code",
   "execution_count": 2,
   "metadata": {
    "ExecuteTime": {
     "end_time": "2020-07-04T18:25:14.579057Z",
     "start_time": "2020-07-04T18:25:14.538510Z"
    }
   },
   "outputs": [],
   "source": [
    "titanic = pd.read_csv('train.csv')"
   ]
  },
  {
   "cell_type": "code",
   "execution_count": 3,
   "metadata": {
    "ExecuteTime": {
     "end_time": "2020-07-04T18:25:14.802268Z",
     "start_time": "2020-07-04T18:25:14.585655Z"
    },
    "scrolled": true
   },
   "outputs": [
    {
     "data": {
      "text/html": [
       "<div>\n",
       "<style scoped>\n",
       "    .dataframe tbody tr th:only-of-type {\n",
       "        vertical-align: middle;\n",
       "    }\n",
       "\n",
       "    .dataframe tbody tr th {\n",
       "        vertical-align: top;\n",
       "    }\n",
       "\n",
       "    .dataframe thead th {\n",
       "        text-align: right;\n",
       "    }\n",
       "</style>\n",
       "<table border=\"1\" class=\"dataframe\">\n",
       "  <thead>\n",
       "    <tr style=\"text-align: right;\">\n",
       "      <th></th>\n",
       "      <th>PassengerId</th>\n",
       "      <th>Survived</th>\n",
       "      <th>Pclass</th>\n",
       "      <th>Name</th>\n",
       "      <th>Sex</th>\n",
       "      <th>Age</th>\n",
       "      <th>SibSp</th>\n",
       "      <th>Parch</th>\n",
       "      <th>Ticket</th>\n",
       "      <th>Fare</th>\n",
       "      <th>Cabin</th>\n",
       "      <th>Embarked</th>\n",
       "    </tr>\n",
       "  </thead>\n",
       "  <tbody>\n",
       "    <tr>\n",
       "      <th>0</th>\n",
       "      <td>1</td>\n",
       "      <td>0</td>\n",
       "      <td>3</td>\n",
       "      <td>Braund, Mr. Owen Harris</td>\n",
       "      <td>male</td>\n",
       "      <td>22.0</td>\n",
       "      <td>1</td>\n",
       "      <td>0</td>\n",
       "      <td>A/5 21171</td>\n",
       "      <td>7.2500</td>\n",
       "      <td>NaN</td>\n",
       "      <td>S</td>\n",
       "    </tr>\n",
       "    <tr>\n",
       "      <th>1</th>\n",
       "      <td>2</td>\n",
       "      <td>1</td>\n",
       "      <td>1</td>\n",
       "      <td>Cumings, Mrs. John Bradley (Florence Briggs Th...</td>\n",
       "      <td>female</td>\n",
       "      <td>38.0</td>\n",
       "      <td>1</td>\n",
       "      <td>0</td>\n",
       "      <td>PC 17599</td>\n",
       "      <td>71.2833</td>\n",
       "      <td>C85</td>\n",
       "      <td>C</td>\n",
       "    </tr>\n",
       "    <tr>\n",
       "      <th>2</th>\n",
       "      <td>3</td>\n",
       "      <td>1</td>\n",
       "      <td>3</td>\n",
       "      <td>Heikkinen, Miss. Laina</td>\n",
       "      <td>female</td>\n",
       "      <td>26.0</td>\n",
       "      <td>0</td>\n",
       "      <td>0</td>\n",
       "      <td>STON/O2. 3101282</td>\n",
       "      <td>7.9250</td>\n",
       "      <td>NaN</td>\n",
       "      <td>S</td>\n",
       "    </tr>\n",
       "    <tr>\n",
       "      <th>3</th>\n",
       "      <td>4</td>\n",
       "      <td>1</td>\n",
       "      <td>1</td>\n",
       "      <td>Futrelle, Mrs. Jacques Heath (Lily May Peel)</td>\n",
       "      <td>female</td>\n",
       "      <td>35.0</td>\n",
       "      <td>1</td>\n",
       "      <td>0</td>\n",
       "      <td>113803</td>\n",
       "      <td>53.1000</td>\n",
       "      <td>C123</td>\n",
       "      <td>S</td>\n",
       "    </tr>\n",
       "    <tr>\n",
       "      <th>4</th>\n",
       "      <td>5</td>\n",
       "      <td>0</td>\n",
       "      <td>3</td>\n",
       "      <td>Allen, Mr. William Henry</td>\n",
       "      <td>male</td>\n",
       "      <td>35.0</td>\n",
       "      <td>0</td>\n",
       "      <td>0</td>\n",
       "      <td>373450</td>\n",
       "      <td>8.0500</td>\n",
       "      <td>NaN</td>\n",
       "      <td>S</td>\n",
       "    </tr>\n",
       "  </tbody>\n",
       "</table>\n",
       "</div>"
      ],
      "text/plain": [
       "   PassengerId  Survived  Pclass  \\\n",
       "0            1         0       3   \n",
       "1            2         1       1   \n",
       "2            3         1       3   \n",
       "3            4         1       1   \n",
       "4            5         0       3   \n",
       "\n",
       "                                                Name     Sex   Age  SibSp  \\\n",
       "0                            Braund, Mr. Owen Harris    male  22.0      1   \n",
       "1  Cumings, Mrs. John Bradley (Florence Briggs Th...  female  38.0      1   \n",
       "2                             Heikkinen, Miss. Laina  female  26.0      0   \n",
       "3       Futrelle, Mrs. Jacques Heath (Lily May Peel)  female  35.0      1   \n",
       "4                           Allen, Mr. William Henry    male  35.0      0   \n",
       "\n",
       "   Parch            Ticket     Fare Cabin Embarked  \n",
       "0      0         A/5 21171   7.2500   NaN        S  \n",
       "1      0          PC 17599  71.2833   C85        C  \n",
       "2      0  STON/O2. 3101282   7.9250   NaN        S  \n",
       "3      0            113803  53.1000  C123        S  \n",
       "4      0            373450   8.0500   NaN        S  "
      ]
     },
     "execution_count": 3,
     "metadata": {},
     "output_type": "execute_result"
    }
   ],
   "source": [
    "titanic.head()"
   ]
  },
  {
   "cell_type": "code",
   "execution_count": 4,
   "metadata": {
    "ExecuteTime": {
     "end_time": "2020-07-04T18:25:14.873879Z",
     "start_time": "2020-07-04T18:25:14.807763Z"
    },
    "scrolled": true
   },
   "outputs": [
    {
     "name": "stdout",
     "output_type": "stream",
     "text": [
      "<class 'pandas.core.frame.DataFrame'>\n",
      "RangeIndex: 891 entries, 0 to 890\n",
      "Data columns (total 12 columns):\n",
      " #   Column       Non-Null Count  Dtype  \n",
      "---  ------       --------------  -----  \n",
      " 0   PassengerId  891 non-null    int64  \n",
      " 1   Survived     891 non-null    int64  \n",
      " 2   Pclass       891 non-null    int64  \n",
      " 3   Name         891 non-null    object \n",
      " 4   Sex          891 non-null    object \n",
      " 5   Age          714 non-null    float64\n",
      " 6   SibSp        891 non-null    int64  \n",
      " 7   Parch        891 non-null    int64  \n",
      " 8   Ticket       891 non-null    object \n",
      " 9   Fare         891 non-null    float64\n",
      " 10  Cabin        204 non-null    object \n",
      " 11  Embarked     889 non-null    object \n",
      "dtypes: float64(2), int64(5), object(5)\n",
      "memory usage: 83.7+ KB\n"
     ]
    }
   ],
   "source": [
    "titanic.info()"
   ]
  },
  {
   "cell_type": "code",
   "execution_count": 5,
   "metadata": {
    "ExecuteTime": {
     "end_time": "2020-07-04T18:25:14.985184Z",
     "start_time": "2020-07-04T18:25:14.879725Z"
    },
    "scrolled": true
   },
   "outputs": [
    {
     "data": {
      "text/plain": [
       "PassengerId      0\n",
       "Survived         0\n",
       "Pclass           0\n",
       "Name             0\n",
       "Sex              0\n",
       "Age            177\n",
       "SibSp            0\n",
       "Parch            0\n",
       "Ticket           0\n",
       "Fare             0\n",
       "Cabin          687\n",
       "Embarked         2\n",
       "dtype: int64"
      ]
     },
     "execution_count": 5,
     "metadata": {},
     "output_type": "execute_result"
    }
   ],
   "source": [
    "titanic.isna().sum()"
   ]
  },
  {
   "cell_type": "code",
   "execution_count": 6,
   "metadata": {
    "ExecuteTime": {
     "end_time": "2020-07-04T18:25:15.069279Z",
     "start_time": "2020-07-04T18:25:14.993650Z"
    }
   },
   "outputs": [],
   "source": [
    "titanic = titanic.dropna()"
   ]
  },
  {
   "cell_type": "markdown",
   "metadata": {},
   "source": [
    "# Filter Outliers"
   ]
  },
  {
   "cell_type": "code",
   "execution_count": 7,
   "metadata": {
    "ExecuteTime": {
     "end_time": "2020-07-04T18:25:15.786527Z",
     "start_time": "2020-07-04T18:25:15.074411Z"
    }
   },
   "outputs": [
    {
     "data": {
      "image/png": "[encoded data removed]",
      "text/plain": [
       "<Figure size 576x576 with 1 Axes>"
      ]
     },
     "metadata": {
      "needs_background": "light"
     },
     "output_type": "display_data"
    }
   ],
   "source": [
    "# Filter outlier, menggunakan IQR (non-parametric)\n",
    "\n",
    "Q1_age = titanic['Age'].describe()['25%']\n",
    "Q3_age = titanic['Age'].describe()['75%']\n",
    "IQR = Q3_age - Q1_age\n",
    "\n",
    "plt.figure(figsize = (8,8))\n",
    "sns.distplot(titanic[(titanic['Age'] >= Q1_age - (1.5*IQR)) & (titanic['Age'] <= Q3_age + (1.5 * IQR))]['Age'], hist = False)\n",
    "\n",
    "out_age = titanic[(titanic['Age'] >= Q1_age - (1.5*IQR)) & (titanic['Age'] <= Q3_age + (1.5 * IQR))]['Age'].index"
   ]
  },
  {
   "cell_type": "markdown",
   "metadata": {},
   "source": [
    "# Histogram and Density plot"
   ]
  },
  {
   "cell_type": "markdown",
   "metadata": {},
   "source": [
    "## Histogram\n",
    "\n",
    "A great way to get started exploring a single variable is with the histogram. <b>A histogram divides the variable into bins, counts the data points in each bin, and shows the bins on the x-axis and the counts on the y-axis.</b>\n",
    "\n",
    ">The binwidth is the most important parameter for a histogram and we should always try out a few different values of binwidth to select the best one for our data."
   ]
  },
  {
   "cell_type": "code",
   "execution_count": 9,
   "metadata": {
    "ExecuteTime": {
     "end_time": "2020-07-04T18:28:39.518163Z",
     "start_time": "2020-07-04T18:28:38.911584Z"
    }
   },
   "outputs": [
    {
     "data": {
      "text/plain": [
       "<matplotlib.legend.Legend at 0x7fecb6cbc950>"
      ]
     },
     "execution_count": 9,
     "metadata": {},
     "output_type": "execute_result"
    },
    {
     "data": {
      "image/png": "[encoded data removed]",
      "text/plain": [
       "<Figure size 504x432 with 1 Axes>"
      ]
     },
     "metadata": {
      "needs_background": "light"
     },
     "output_type": "display_data"
    }
   ],
   "source": [
    "plt.figure(figsize = (7,6))\n",
    "\n",
    "sns.distplot(titanic[titanic['Survived'] == 1]['Age'], bins = 5, color = 'r', label = 'Not Survived', kde = False)\n",
    "sns.distplot(titanic[titanic['Survived'] == 0]['Age'], bins = 5, color = 'b', label = 'Survived', kde = False)\n",
    "#dipotong menjadi 5 bagian\n",
    "plt.legend()"
   ]
  },
  {
   "cell_type": "code",
   "execution_count": 10,
   "metadata": {
    "ExecuteTime": {
     "end_time": "2020-07-04T18:28:42.588252Z",
     "start_time": "2020-07-04T18:28:42.011990Z"
    },
    "scrolled": false
   },
   "outputs": [
    {
     "data": {
      "text/plain": [
       "<matplotlib.legend.Legend at 0x7fecb6c2b3d0>"
      ]
     },
     "execution_count": 10,
     "metadata": {},
     "output_type": "execute_result"
    },
    {
     "data": {
      "image/png": "[encoded data removed]",
      "text/plain": [
       "<Figure size 504x432 with 1 Axes>"
      ]
     },
     "metadata": {
      "needs_background": "light"
     },
     "output_type": "display_data"
    }
   ],
   "source": [
    "plt.figure(figsize = (7,6))\n",
    "\n",
    "sns.distplot(titanic[titanic['Survived'] == 1]['Age'], bins = [0, 5, 18, 40, 120], color = 'r', label = 'Not Survived', kde = False)\n",
    "sns.distplot(titanic[titanic['Survived'] == 0]['Age'], bins = [0, 5, 18, 40, 120], color = 'b', label = 'Survived', kde = False)\n",
    "# dipotong berdasarkan range [0, 5, 18, 40, 120]\n",
    "plt.legend()"
   ]
  },
  {
   "cell_type": "markdown",
   "metadata": {},
   "source": [
    "> bins for ages 0-5, 5–18, 18–40 etc."
   ]
  },
  {
   "cell_type": "markdown",
   "metadata": {},
   "source": [
    "## Density Plot\n",
    "\n",
    "First, what is a density plot? A density plot is a smoothed, continuous version of a histogram estimated from the data. The most common form of estimation is known as kernel density estimation. In this method, a continuous curve (the kernel) is drawn at every individual data point and all of these curves are then added together to make a single smooth density estimation. The kernel most often used is a Gaussian (which produces a Gaussian bell curve at each data point). "
   ]
  },
  {
   "cell_type": "code",
   "execution_count": 23,
   "metadata": {
    "ExecuteTime": {
     "end_time": "2020-06-24T10:14:03.707858Z",
     "start_time": "2020-06-24T10:14:03.696663Z"
    }
   },
   "outputs": [
    {
     "data": {
      "image/png": "[encoded data removed]",
      "text/plain": [
       "<IPython.core.display.Image object>"
      ]
     },
     "execution_count": 23,
     "metadata": {},
     "output_type": "execute_result"
    }
   ],
   "source": [
    "from IPython.display import Image\n",
    "Image(filename='kernel.png') "
   ]
  },
  {
   "cell_type": "markdown",
   "metadata": {},
   "source": [
    "> Here, each small black vertical line on the x-axis represents a data point. The individual kernels (Gaussians in this example) are shown drawn in dashed red lines above each point. The solid blue curve is created by <b>summing the individual Gaussians and forms the overall density plot.</b>\n",
    "\n",
    "The x-axis is the value of the variable just like in a histogram, but what exactly does the y-axis represent? \n",
    "\n",
    "<b>The y-axis in a density plot is the probability density function for the kernel density estimation.</b> However, we need to be careful to specify this is a <b>PROBABILITY DENSITY, NOT A PROBABILITY</b>. \n",
    "\n",
    "> The difference is the probability density is the probability per unit on the x-axis. To convert to an actual probability, <b>we need to find the area under the curve for a specific interval on the x-axis. Somewhat confusingly, because this is a probability density and not a probability,</b> the y-axis can take values greater than one. The only requirement of the density plot is that the total area under the curve integrates to one. I generally tend to think of the y-axis on a density plot as a value only for relative comparisons between different categories."
   ]
  },
  {
   "cell_type": "markdown",
   "metadata": {},
   "source": [
    "<b>The curve shows the density plot which is essentially a smooth version of the histogram. The y-axis is in terms of density, and the histogram is normalized by default so that it has the same y-scale as the density plot.</b>"
   ]
  },
  {
   "cell_type": "code",
   "execution_count": 24,
   "metadata": {
    "ExecuteTime": {
     "end_time": "2020-06-24T10:16:43.060799Z",
     "start_time": "2020-06-24T10:16:42.549933Z"
    }
   },
   "outputs": [
    {
     "data": {
      "text/plain": [
       "<matplotlib.legend.Legend at 0x7f0600452810>"
      ]
     },
     "execution_count": 24,
     "metadata": {},
     "output_type": "execute_result"
    },
    {
     "data": {
      "image/png": "[encoded data removed]",
      "text/plain": [
       "<Figure size 504x432 with 1 Axes>"
      ]
     },
     "metadata": {
      "needs_background": "light"
     },
     "output_type": "display_data"
    }
   ],
   "source": [
    "plt.figure(figsize = (7,6))\n",
    "\n",
    "sns.distplot(titanic[titanic['Survived'] == 1]['Age'], bins = [0, 5, 18, 40, 120], color = 'r', label = 'Not Survived', hist = False)\n",
    "sns.distplot(titanic[titanic['Survived'] == 0]['Age'], bins = [0, 5, 18, 40, 120], color = 'b', label = 'Survived', hist = False)\n",
    "\n",
    "plt.legend()"
   ]
  },
  {
   "cell_type": "code",
   "execution_count": 38,
   "metadata": {
    "ExecuteTime": {
     "end_time": "2020-06-24T10:27:17.086963Z",
     "start_time": "2020-06-24T10:27:16.400439Z"
    }
   },
   "outputs": [
    {
     "data": {
      "text/plain": [
       "<matplotlib.legend.Legend at 0x7f05fc1635d0>"
      ]
     },
     "execution_count": 38,
     "metadata": {},
     "output_type": "execute_result"
    },
    {
     "data": {
      "image/png": "[encoded data removed]",
      "text/plain": [
       "<Figure size 504x432 with 1 Axes>"
      ]
     },
     "metadata": {
      "needs_background": "light"
     },
     "output_type": "display_data"
    }
   ],
   "source": [
    "plt.figure(figsize = (7,6))\n",
    "\n",
    "sns.distplot(titanic[titanic['Survived'] == 1]['Age'], bins = [0, 5, 18, 40, 120], color = 'r', label = 'Not Survived')\n",
    "sns.distplot(titanic[titanic['Survived'] == 0]['Age'], bins = [0, 5, 18, 40, 120], color = 'b', label = 'Survived')\n",
    "\n",
    "plt.legend()"
   ]
  },
  {
   "cell_type": "markdown",
   "metadata": {},
   "source": [
    "# Boxplot"
   ]
  },
  {
   "cell_type": "markdown",
   "metadata": {},
   "source": [
    "<img src=\"https://miro.medium.com/max/1400/1*NRlqiZGQdsIyAu0KzP7LaQ.png\" width=\"800\" height=\"800\"/>\n",
    "\n",
    "The image above is a boxplot. A boxplot is a standardized way of displaying the distribution of data based on a five number summary (“minimum”, first quartile (Q1), median, third quartile (Q3), and “maximum”). It can tell you about your outliers and what their values are. It can also tell you if your data is symmetrical, how tightly your data is grouped, and if and how your data is skewed."
   ]
  },
  {
   "cell_type": "markdown",
   "metadata": {},
   "source": [
    "> The image above is a comparison of a boxplot of a nearly normal distribution and the probability density function (pdf) for a normal distribution. The reason why I am showing you this image is that looking at a statistical distribution is more commonplace than looking at a box plot. In other words, it might help you understand a boxplot."
   ]
  },
  {
   "cell_type": "code",
   "execution_count": 33,
   "metadata": {
    "ExecuteTime": {
     "end_time": "2020-06-24T10:21:49.712023Z",
     "start_time": "2020-06-24T10:21:49.698131Z"
    },
    "scrolled": false
   },
   "outputs": [
    {
     "data": {
      "image/png": "[encoded data removed]",
      "text/plain": [
       "<IPython.core.display.Image object>"
      ]
     },
     "execution_count": 33,
     "metadata": {},
     "output_type": "execute_result"
    }
   ],
   "source": [
    "Image(filename='quartile.png') "
   ]
  },
  {
   "cell_type": "markdown",
   "metadata": {},
   "source": [
    "* The start of the box i.e the <b>lower quartile</b> represents the 25% of our data set.\n",
    "* The box i.e the <b>upper quartile</b> represents 75% of our data.\n",
    "* The difference between the lower quartile and upper quartile is called the <b>inter-quartile range (IQR)</b>. So basically the entire red box represents the inter-quartile range. IQR represent the variance of distribution."
   ]
  },
  {
   "cell_type": "markdown",
   "metadata": {},
   "source": [
    "## __Information from Boxplot__\n",
    "\n",
    "### ``1. Box plots are useful as they show the average score of a data set``\n",
    "The median is the average value from a set of data and is shown by the line that divides the box into two parts. Half the scores are greater than or equal to this value and half are less.\n",
    "\n",
    "### ``2. Box plots are useful as they show the skewness of a data set``\n",
    "The box plot shape will show if a statistical data set is normally distributed or skewed.\n",
    "\n",
    "<img src='https://www.simplypsychology.org/bloxplots-skewed.jpg?ezimgfmt=rs:523x386/rscb19/ng:webp/ngcb19'>\n",
    "\n",
    "When the median is in the middle of the box, and the whiskers are about the same on both sides of the box, then the distribution is symmetric.\n",
    "\n",
    "When the median is closer to the bottom of the box, and if the whisker is shorter on the lower end of the box, then the distribution is positively skewed (skewed right).\n",
    "\n",
    "When the median is closer to the top of the box, and if the whisker is shorter on the upper end of the box, then the distribution is negatively skewed (skewed left). \n",
    "\n",
    "### ``3. Box plots are useful as they show the dispersion of a data set``\n",
    "In statistics, dispersion (also called variability, scatter, or spread) is the extent to which a distribution is stretched or squeezed.\n",
    "\n",
    "> The IQR is used to measure how spread out the data points in a set are from the mean of the data set. The higher the IQR, the more spread out the data points; in contrast, the smaller the IQR, the more bunched up the data points are around the mean.\n",
    "\n",
    "The interquartile range (IQR) is the box plot showing the middle 50% of scores and can be calculated by subtracting the lower quartile from the upper quartile (e.g. Q3−Q1). \n",
    "\n",
    "### ``4. Box plots are useful as they show outliers within a data set``\n",
    "An outlier is an observation that is numerically distant from the rest of the data.\n",
    "\n",
    "When reviewing a box plot, an outlier is defined as a data point that is located outside the whiskers of the box plot.\n",
    "\n",
    "<img src=\"https://miro.medium.com/max/1400/1*2c21SkzJMf3frPXPAR_gZA.png\" width=\"800\" height=\"800\">\n",
    "\n",
    "For example, outside 1.5 times the interquartile range above the upper quartile and below the lower quartile (Q1 - 1.5 * IQR or Q3 + 1.5 * IQR)."
   ]
  },
  {
   "cell_type": "markdown",
   "metadata": {},
   "source": [
    "## How to compare boxplot? \n",
    "\n",
    "### The middle lines:\n",
    "\n",
    "These are the medians, the “middle” values of each group. <b>If the median line of box A lies outside of box B entirely, then there is likely to be a difference between the two groups.</b>\n",
    "\n",
    "<img src=\"https://blog.bioturing.com/wp-content/uploads/2018/05/overlapping-box.jpg\" width=\"800\" height=\"800\">\n",
    "    \n",
    "> Description for the image: Boxes overlap but don’t spread past both medians: groups are likely to be different.\n",
    "\n",
    "\n",
    "### The whiskers:\n",
    "\n",
    "The lines coming out from each box extend from the maximum to the minimum values of each set. Together with the box, <b>the whiskers (or you can see IQR, cause whisker is dependent with the IQR) show how big a range there is between those two extremes. Larger ranges indicate wider distribution, that is, more scattered data.</b>\n",
    "\n",
    "The same thing can be said about the boxes. Short boxes mean their data points consistently hover around the center values. Taller boxes imply more variable data. <b>That’s something to look for when comparing box plots, especially when the medians are similar.</b>\n",
    "\n",
    "<img src=\"https://blog.bioturing.com/wp-content/uploads/2018/05/biovinci-box-plot.png\" width=\"800\" height=\"800\">\n",
    "\n",
    "### Outliers:\n",
    "\n",
    "When there are outliers, <b>they are dotted outside the whiskers.</b> Not all datasets have outliers. Data points have to go above or below the box pretty far to count as outliers. How far? 1.5 times the size of the box.\n",
    "\n",
    "### To Sum up:\n",
    "\n",
    "That’s a quick and easy way to compare two box-and-whisker plots. First, look at the boxes and median lines to see if they overlap. Then check the sizes of the boxes and whiskers to have a sense of ranges and variability. Finally, look for outliers if there are any."
   ]
  },
  {
   "cell_type": "markdown",
   "metadata": {},
   "source": [
    "<b> The prefer one</b>"
   ]
  },
  {
   "cell_type": "code",
   "execution_count": 28,
   "metadata": {
    "ExecuteTime": {
     "end_time": "2020-06-24T10:17:40.700005Z",
     "start_time": "2020-06-24T10:17:40.276322Z"
    },
    "scrolled": false
   },
   "outputs": [
    {
     "data": {
      "text/plain": [
       "<matplotlib.axes._subplots.AxesSubplot at 0x7f05fff179d0>"
      ]
     },
     "execution_count": 28,
     "metadata": {},
     "output_type": "execute_result"
    },
    {
     "data": {
      "image/png": "[encoded data removed]",
      "text/plain": [
       "<Figure size 576x576 with 1 Axes>"
      ]
     },
     "metadata": {
      "needs_background": "light"
     },
     "output_type": "display_data"
    }
   ],
   "source": [
    "plt.figure(figsize = (8,8))\n",
    "sns.boxplot(y = titanic['Age'], x = titanic['Survived'])"
   ]
  },
  {
   "cell_type": "markdown",
   "metadata": {},
   "source": [
    "<b>alternative</b>"
   ]
  },
  {
   "cell_type": "code",
   "execution_count": 29,
   "metadata": {
    "ExecuteTime": {
     "end_time": "2020-06-24T10:18:00.264875Z",
     "start_time": "2020-06-24T10:17:59.829822Z"
    }
   },
   "outputs": [
    {
     "data": {
      "text/plain": [
       "<matplotlib.axes._subplots.AxesSubplot at 0x7f05ffe69d90>"
      ]
     },
     "execution_count": 29,
     "metadata": {},
     "output_type": "execute_result"
    },
    {
     "data": {
      "image/png": "[encoded data removed]",
      "text/plain": [
       "<Figure size 576x576 with 1 Axes>"
      ]
     },
     "metadata": {
      "needs_background": "light"
     },
     "output_type": "display_data"
    }
   ],
   "source": [
    "plt.figure(figsize = (8,8))\n",
    "sns.boxplot(y = 'Age', x = 'Survived', data = titanic)"
   ]
  },
  {
   "cell_type": "markdown",
   "metadata": {},
   "source": [
    "# Correlation Coeff\n",
    "\n",
    "1. <b>Correlation coefficient of 1 means that for every positive increase in one variable, there is a positive increase of a fixed proportion in the other.</b> For example, shoe sizes go up in (almost) perfect correlation with foot length. <br>\n",
    "2. <b>A correlation coefficient of -1 means that for every positive increase in one variable, there is a negative decrease of a fixed proportion in the other.</b> For example, the amount of gas in a tank decreases in (almost) perfect correlation with speed. <br>\n",
    "3. <b>Zero means that for every increase, there isn’t a positive or negative increase. The two just aren’t related.</b> \n",
    "\n",
    "## Illustration\n",
    "\n",
    "\n",
    "If you analyze any two features of a dataset, then you’ll find some type of correlation between those two features. Consider the following figures:\n",
    "\n",
    "![corr](https://files.realpython.com/media/py-corr-1.d13ed60a9b91.png)\n",
    "\n",
    "Each of these plots shows one of three different forms of correlation:\n",
    "\n",
    "-    **Negative correlation (red dots)**: In the plot on the left, the y values tend to decrease as the x values increase. This shows strong negative correlation, which occurs when large values of one feature correspond to small values of the other, and vice versa.\n",
    "\n",
    "-    **Weak or no correlation (green dots)**: The plot in the middle shows no obvious trend. This is a form of weak correlation, which occurs when an association between two features is not obvious or is hardly observable.\n",
    "\n",
    "-    **Positive correlation (blue dots)**: In the plot on the right, the y values tend to increase as the x values increase. This illustrates strong positive correlation, which occurs when large values of one feature correspond to large values of the other, and vice versa."
   ]
  },
  {
   "cell_type": "markdown",
   "metadata": {},
   "source": [
    "\n",
    "> **``Note``**: When you’re analyzing correlation, you should always have in mind that ``correlation does not indicate causation``. It quantifies the strength of the relationship between the features of a dataset. Sometimes, the association is caused by a factor common to several features of interest."
   ]
  },
  {
   "cell_type": "markdown",
   "metadata": {},
   "source": [
    "## Pearson\n",
    "\n",
    "The Pearson correlation coefficient measures the <b>linear relationship between two datasets.</b>\n",
    "\n",
    "We will explore this later!"
   ]
  },
  {
   "cell_type": "code",
   "execution_count": 36,
   "metadata": {
    "ExecuteTime": {
     "end_time": "2020-06-24T10:24:56.353388Z",
     "start_time": "2020-06-24T10:24:55.350272Z"
    },
    "scrolled": false
   },
   "outputs": [
    {
     "data": {
      "text/plain": [
       "<matplotlib.axes._subplots.AxesSubplot at 0x7f05ffdb1050>"
      ]
     },
     "execution_count": 36,
     "metadata": {},
     "output_type": "execute_result"
    },
    {
     "data": {
      "image/png": "[encoded data removed]",
      "text/plain": [
       "<Figure size 1080x576 with 2 Axes>"
      ]
     },
     "metadata": {
      "needs_background": "light"
     },
     "output_type": "display_data"
    }
   ],
   "source": [
    "plt.figure(figsize = (15,8))\n",
    "sns.heatmap(titanic.corr('pearson'), annot = True)"
   ]
  },
  {
   "cell_type": "markdown",
   "metadata": {},
   "source": [
    "## Spearman\n",
    "\n",
    "The Spearman correlation is a <b>nonparametric measure of the monotonicity of the relationship (non-linear relationship) between two datasets</b>.\n",
    "\n",
    "We will explore this later!"
   ]
  },
  {
   "cell_type": "code",
   "execution_count": 37,
   "metadata": {
    "ExecuteTime": {
     "end_time": "2020-06-24T10:25:57.989883Z",
     "start_time": "2020-06-24T10:25:57.006111Z"
    }
   },
   "outputs": [
    {
     "data": {
      "text/plain": [
       "<matplotlib.axes._subplots.AxesSubplot at 0x7f05fc35c310>"
      ]
     },
     "execution_count": 37,
     "metadata": {},
     "output_type": "execute_result"
    },
    {
     "data": {
      "image/png": "[encoded data removed]",
      "text/plain": [
       "<Figure size 1080x576 with 2 Axes>"
      ]
     },
     "metadata": {
      "needs_background": "light"
     },
     "output_type": "display_data"
    }
   ],
   "source": [
    "plt.figure(figsize = (15,8))\n",
    "sns.heatmap(titanic.corr('spearman'), annot = True)"
   ]
  },
  {
   "cell_type": "markdown",
   "metadata": {},
   "source": [
    "# Kurtosis and Skewness"
   ]
  },
  {
   "cell_type": "code",
   "execution_count": 39,
   "metadata": {
    "ExecuteTime": {
     "end_time": "2020-06-24T10:28:03.804714Z",
     "start_time": "2020-06-24T10:28:03.792534Z"
    }
   },
   "outputs": [],
   "source": [
    "from scipy.stats import skew, kurtosis"
   ]
  },
  {
   "cell_type": "markdown",
   "metadata": {},
   "source": [
    "## Skewness\n",
    "\n",
    "* A positive skew could be good or bad, depending on the mean.  A positive mean with a positive skew is good, while a negative mean with a positive skew is not good.  If a data set has a positive skew, but the mean of the returns is negative, it means that overall performance is negative, but the outlier months are positive. \n",
    "* A negative skew is generally not good, because it highlights the risk of left tail events or what are sometimes referred to as “black swan events.” While a consistent and steady track record with a positive mean would be a great thing, if the track record has a negative skew then you should proceed with caution. "
   ]
  },
  {
   "cell_type": "code",
   "execution_count": 41,
   "metadata": {
    "ExecuteTime": {
     "end_time": "2020-06-24T10:28:53.366500Z",
     "start_time": "2020-06-24T10:28:53.333417Z"
    }
   },
   "outputs": [
    {
     "data": {
      "text/html": [
       "<div>\n",
       "<style scoped>\n",
       "    .dataframe tbody tr th:only-of-type {\n",
       "        vertical-align: middle;\n",
       "    }\n",
       "\n",
       "    .dataframe tbody tr th {\n",
       "        vertical-align: top;\n",
       "    }\n",
       "\n",
       "    .dataframe thead th {\n",
       "        text-align: right;\n",
       "    }\n",
       "</style>\n",
       "<table border=\"1\" class=\"dataframe\">\n",
       "  <thead>\n",
       "    <tr style=\"text-align: right;\">\n",
       "      <th></th>\n",
       "      <th>skewness</th>\n",
       "    </tr>\n",
       "  </thead>\n",
       "  <tbody>\n",
       "    <tr>\n",
       "      <th>PassengerId</th>\n",
       "      <td>-0.053773</td>\n",
       "    </tr>\n",
       "    <tr>\n",
       "      <th>Survived</th>\n",
       "      <td>-0.739427</td>\n",
       "    </tr>\n",
       "    <tr>\n",
       "      <th>Pclass</th>\n",
       "      <td>2.681459</td>\n",
       "    </tr>\n",
       "    <tr>\n",
       "      <th>Age</th>\n",
       "      <td>0.009676</td>\n",
       "    </tr>\n",
       "    <tr>\n",
       "      <th>SibSp</th>\n",
       "      <td>1.443019</td>\n",
       "    </tr>\n",
       "    <tr>\n",
       "      <th>Parch</th>\n",
       "      <td>1.519305</td>\n",
       "    </tr>\n",
       "    <tr>\n",
       "      <th>Fare</th>\n",
       "      <td>2.715883</td>\n",
       "    </tr>\n",
       "  </tbody>\n",
       "</table>\n",
       "</div>"
      ],
      "text/plain": [
       "             skewness\n",
       "PassengerId -0.053773\n",
       "Survived    -0.739427\n",
       "Pclass       2.681459\n",
       "Age          0.009676\n",
       "SibSp        1.443019\n",
       "Parch        1.519305\n",
       "Fare         2.715883"
      ]
     },
     "execution_count": 41,
     "metadata": {},
     "output_type": "execute_result"
    }
   ],
   "source": [
    "pd.DataFrame({'skewness' : titanic.skew()})"
   ]
  },
  {
   "cell_type": "markdown",
   "metadata": {},
   "source": [
    "## Kurtosis\n",
    "\n",
    "Kurtosis is all about the tails of the distribution — not the peakedness or flatness. It is used to describe the extreme values in one versus the other tail. <b>It is actually the measure of outliers present in the distribution.</b>\n",
    "\n",
    "Kurtosis is a statistical measure that defines how heavy the tails of a distribution differ from the tails of a normal distribution. In other words, <b>kurtosis identifies whether the tails of a given distribution contain extreme values.</b>\n",
    "\n",
    "<b> kurtosis statistic measures outliers (rare, extreme observations in the case of data; potential rare, extreme observations in the case of a pdf) </b>\n",
    "\n",
    "<b>Important: \n",
    "\n",
    "Positive kurtosis indicates one or more outliers that are far from the center. A heavy-tailed distribution has large kurtosis. The canonical distribution that has a large positive kurtosis is the t distribution with a small number of degrees of freedom. Some heavy-tailed distributions have infinite kurtosis. \n",
    "\n",
    "Negative kurtosis for a sample indicates that the sample contains many observations that are a moderate distance from the center and few outliers that are far from the center.</b>\n",
    "\n",
    "### Type of kurtosis\n",
    "\n",
    "<b>Mesokurtic</b>\n",
    "\n",
    "Data that follows a mesokurtic distribution shows an excess kurtosis of zero or close to zero. It means that if the data follows a normal distribution, it follows a mesokurtic distribution.\n",
    "\n",
    "\n",
    "\n",
    "<b>Leptokurtic</b> <br>\n",
    "Leptokurtic indicates a positive excess kurtosis. The leptokurtic distribution shows heavy tails on either side, indicating the large outliers. In finance, a leptokurtic distribution shows that the investment returns may be prone to extreme values on either side. Therefore, an investment whose returns follow a leptokurtic distribution is considered to be risky.\n",
    "\n",
    "Distributions with large kurtosis exhibit tail data exceeding the tails of the normal distribution (e.g., five or more standard deviations from the mean).\n",
    "\n",
    "For investors, high kurtosis of the return distribution implies that the investor will experience occasional extreme returns (either positive or negative), more extreme than the usual + or - three standard deviations from the mean that is predicted by the normal distribution of returns. This phenomenon is known as <i>kurtosis risk</i>.\n",
    "\n",
    "\n",
    "<b> Platykurtic </b> <br>\n",
    "A platykurtic distribution shows a negative excess kurtosis. The kurtosis reveals a distribution with flat tails. The flat tails indicate the small outliers in a distribution. In the finance context, the platykurtic distribution of the investment returns is desirable for investors because there is a small probability that the investment would experience extreme returns.\n",
    "\n"
   ]
  },
  {
   "cell_type": "code",
   "execution_count": 43,
   "metadata": {
    "ExecuteTime": {
     "end_time": "2020-06-24T10:29:28.130266Z",
     "start_time": "2020-06-24T10:29:28.094143Z"
    }
   },
   "outputs": [
    {
     "data": {
      "text/html": [
       "<div>\n",
       "<style scoped>\n",
       "    .dataframe tbody tr th:only-of-type {\n",
       "        vertical-align: middle;\n",
       "    }\n",
       "\n",
       "    .dataframe tbody tr th {\n",
       "        vertical-align: top;\n",
       "    }\n",
       "\n",
       "    .dataframe thead th {\n",
       "        text-align: right;\n",
       "    }\n",
       "</style>\n",
       "<table border=\"1\" class=\"dataframe\">\n",
       "  <thead>\n",
       "    <tr style=\"text-align: right;\">\n",
       "      <th></th>\n",
       "      <th>Kurtosis</th>\n",
       "    </tr>\n",
       "  </thead>\n",
       "  <tbody>\n",
       "    <tr>\n",
       "      <th>PassengerId</th>\n",
       "      <td>-1.092844</td>\n",
       "    </tr>\n",
       "    <tr>\n",
       "      <th>Survived</th>\n",
       "      <td>-1.469429</td>\n",
       "    </tr>\n",
       "    <tr>\n",
       "      <th>Pclass</th>\n",
       "      <td>6.111913</td>\n",
       "    </tr>\n",
       "    <tr>\n",
       "      <th>Age</th>\n",
       "      <td>-0.226184</td>\n",
       "    </tr>\n",
       "    <tr>\n",
       "      <th>SibSp</th>\n",
       "      <td>2.481957</td>\n",
       "    </tr>\n",
       "    <tr>\n",
       "      <th>Parch</th>\n",
       "      <td>1.986777</td>\n",
       "    </tr>\n",
       "    <tr>\n",
       "      <th>Fare</th>\n",
       "      <td>10.750636</td>\n",
       "    </tr>\n",
       "  </tbody>\n",
       "</table>\n",
       "</div>"
      ],
      "text/plain": [
       "              Kurtosis\n",
       "PassengerId  -1.092844\n",
       "Survived     -1.469429\n",
       "Pclass        6.111913\n",
       "Age          -0.226184\n",
       "SibSp         2.481957\n",
       "Parch         1.986777\n",
       "Fare         10.750636"
      ]
     },
     "execution_count": 43,
     "metadata": {},
     "output_type": "execute_result"
    }
   ],
   "source": [
    "pd.DataFrame({'Kurtosis' : titanic.kurtosis()})"
   ]
  },
  {
   "cell_type": "markdown",
   "metadata": {},
   "source": [
    "# QQ-Plot"
   ]
  },
  {
   "cell_type": "markdown",
   "metadata": {},
   "source": [
    "Q Q Plots (Quantile-Quantile plots) are plots of two quantiles against each other. A quantile is a fraction where certain values fall below that quantile. For example, the median is a quantile where 50% of the data fall below that point and 50% lie above it. The purpose of Q Q plots is <b>to find out if two sets of data come from the same distribution</b>. A 45 degree angle is plotted on the Q Q plot; <b> if the two data sets come from a common distribution, the points will fall on that reference line. </b><br>\n",
    "\n",
    "In our case, we use Normal Distribution."
   ]
  },
  {
   "cell_type": "code",
   "execution_count": 44,
   "metadata": {
    "ExecuteTime": {
     "end_time": "2020-06-24T10:31:17.788430Z",
     "start_time": "2020-06-24T10:31:16.498818Z"
    },
    "scrolled": false
   },
   "outputs": [
    {
     "data": {
      "text/plain": [
       "Text(0.5, 1.0, 'Not Survived')"
      ]
     },
     "execution_count": 44,
     "metadata": {},
     "output_type": "execute_result"
    },
    {
     "data": {
      "image/png": "[encoded data removed]",
      "text/plain": [
       "<Figure size 432x288 with 1 Axes>"
      ]
     },
     "metadata": {
      "needs_background": "light"
     },
     "output_type": "display_data"
    },
    {
     "data": {
      "image/png": "[encoded data removed]",
      "text/plain": [
       "<Figure size 432x288 with 1 Axes>"
      ]
     },
     "metadata": {
      "needs_background": "light"
     },
     "output_type": "display_data"
    }
   ],
   "source": [
    "import statsmodels.api as sm\n",
    "import pylab\n",
    "\n",
    "sm.qqplot(titanic[titanic['Survived'] == 1]['Age'], line = '45')\n",
    "plt.title('Survived')\n",
    "\n",
    "sm.qqplot(titanic[titanic['Survived'] == 0]['Age'], line = '45')\n",
    "plt.title('Not Survived')\n"
   ]
  },
  {
   "cell_type": "markdown",
   "metadata": {},
   "source": [
    "# Introduction To Hypothesis Testing \n",
    "\n",
    "Hypothesis testing is a method for testing a statistical hypothesis about a <b>parameter in a population, using data measured in a sample.</b>\n",
    "\n",
    "\n",
    "> Statistical Hypothesis -> <b>A premise, claim, or statement about the parameters (usually) describing a population (not a sample) that we want to test.</b>\n",
    "\n",
    "To understand hypothesis testing, there’s some terminology that you have to understand:\n",
    "\n",
    "<b>- Null Hypothesis</b> ($H_{0}$) : The hypothesis that sample observations result purely from chance (by coincidence). The null hypothesis tends to state that there’s no change.<br>\n",
    "<b>- Alternative Hypothesis</b> ($H_{1}$) : The hypothesis that sample observations are influenced by some non-random cause.<br>\n",
    "<b>- P-value</b>: The probability of obtaining the observed results of a test, assuming that the null hypothesis is correct; <i>a smaller p-value means that there is stronger evidence in favor of the alternative hypothesis.</i><br>\n",
    "<b>- alpha ($\\alpha$)</b>: The significance level; the probability of rejecting the null hypothesis when it is true — also known as Type 1 error.\n",
    "\n",
    "> In general, we use $\\alpha = 0.5$ and confidence level (CL) is 0.95 cause $CL = 1-\\alpha$\n",
    "\n",
    "<img src='https://dataz4s.com/wp-content/uploads/2020/03/01.-Significance-level.jpg'>\n",
    "\n",
    "## Null Hypothesis and Alternative Hypothesis (In further)\n",
    "\n",
    "<i>This is the question you need to ask, to your sample: Is this significant? Could this sample just be the result of chance?</i>\n",
    "\n",
    "In general, <b>the null hypothesis</b> is that things are the same as each other, or the same as a theoretical expectation. The alternative hypothesis</b> is that things are <b>different from each other, or different from a theoretical expectation.</b>\n",
    "\n",
    "\n",
    "### In mathematical term\n",
    "\n",
    "<b>- Null Hypothesis</b> ($H_{0}$) : <b>The null hypothesis states that a population parameter is equal to a value.</b> The null hypothesis is often an initial claim that researchers specify using previous research or knowledge.<br>\n",
    "<b>- Alternative Hypothesis</b> ($H_{1}$) : <b>There is going on. The hypothesis that sample observations are influenced by some non-random cause.<br></b>\n",
    "\n",
    "\n",
    "### Intuitively Speaking\n",
    "\n",
    "<b>- Null Hypothesis</b> ($H_{0}$) : <b>There is nothing going on.</b> <i>E.g. the promotion and gender are independent. There is no gender discrimination.</i> And, <b>the observed difference in proportions is simply due to chance.</b><br>\n",
    "<b>- Alternative Hypothesis</b> ($H_{1}$) : <b>There is going on. The hypothesis that sample observations are influenced by some non-random cause.<br></b>\n",
    "\n",
    "### Or my favorite one (From R.Fisher)\n",
    "\n",
    "<b>- Null Hypothesis</b> ($H_{0}$) : Type of hypothesis used in statistics that proposes that <b>no statistical significance exists</b> in a set of given observations (samples)<br>\n",
    "<b>- Alternative Hypothesis</b> ($H_{1}$) : Type of hypothesis used in statistics that proposes that <b>statistical significance exists</b> in a set of given observations (samples)<br>\n",
    "\n",
    "<i>In principle, a statistically significant result (usually a difference) is a result that's not attributed to chance (or we can say our result is not come from a coincidence).</i>\n",
    "\n",
    "### If you still confused about the definition\n",
    "\n",
    "<b>The null hypothesis is, in general, the boring stuff i.e. it assumes that nothing interesting happens/happened.\n",
    "\n",
    "The alternative hypothesis is, where the action is i.e. some observation/ phenomenon is real (i.e. not a fluke) and statistical analysis will give us more insights on that.</b>\n",
    "\n",
    "## A Little story...\n",
    "\n",
    "Not so long ago, people believed that the world was flat.\n",
    "<br>\n",
    "* <b>Null hypothesis,</b> $H_{0}$: The world is flat.<br>\n",
    "* <b>Alternate hypothesis</b>: The world is round.<br>\n",
    "\n",
    "Several scientists, including Copernicus, set out to disprove the null hypothesis. This eventually led to the rejection of the null and the acceptance of the alternate. Most people accepted it — the ones that didn’t created the Flat Earth Society!. What would have happened if Copernicus had not disproved the it and merely proved the alternate? No one would have listened to him. <b>In order to change people’s thinking, he first had to prove that their thinking was wrong.</b>\n",
    "\n",
    "\n",
    ">  Researchers work to reject, nullify or disprove the null hypothesis. Researchers come up with an alternate hypothesis, one that they think explains a phenomenon, and then <b>work to reject the null hypothesis.</b>\n",
    "\n",
    "\n",
    "> <i>There are two possible outcomes: if the result confirms the hypothesis, then you’ve made a measurement. If the result is contrary to the hypothesis, then you’ve made a discovery — Enrico Fermi</i>"
   ]
  },
  {
   "cell_type": "markdown",
   "metadata": {},
   "source": [
    "# The Goodness Of Fit (Normality Test)\n",
    "\n",
    "The goodness of fit test is used <b> to test if sample data fits a distribution from a certain population </b> (i.e. a population with a normal distribution or one with a Weibull distribution). In other words, it tells you <b> if your sample data represents the data you would expect to find in the actual population </b>. Goodness of fit tests commonly used in statistics are:\n",
    "<br>\n",
    "1. The Chi-Square \n",
    "<br>\n",
    "2. Anderson-Darling\n",
    "<br>\n",
    "3. Shapiro-Wilk\n",
    "<br> \n",
    "\n",
    "In this notebook, we always use the goodness of fit for <b>normality test</b>."
   ]
  },
  {
   "cell_type": "code",
   "execution_count": 45,
   "metadata": {
    "ExecuteTime": {
     "end_time": "2020-06-24T10:31:58.946001Z",
     "start_time": "2020-06-24T10:31:58.929579Z"
    }
   },
   "outputs": [],
   "source": [
    "from scipy.stats import shapiro, normaltest, anderson\n",
    "def try_normal(data):\n",
    "    result = {'Anderson' : {i:j for i,j in zip(anderson(data)[2], anderson(data)[1])}, 'Shapiro (P-value)': shapiro(data)[1], \n",
    "     'K^2 (P-value)': normaltest(data)[1]}\n",
    "    result['Anderson']['Test statistic'] = anderson(data)[0]\n",
    "    return result"
   ]
  },
  {
   "cell_type": "markdown",
   "metadata": {
    "ExecuteTime": {
     "end_time": "2020-06-24T10:32:14.310724Z",
     "start_time": "2020-06-24T10:32:14.283641Z"
    }
   },
   "source": [
    "## Anderson-Darling\n",
    "\n",
    "The Anderson-Darling Goodness of Fit Test (AD-Test) is a measure of how well your data fits a specified distribution. It’s <b>commonly used as a test for <i>normality</i>.</b>\n",
    "\n",
    "Assumption of <i>normality</i> means that <b>you should make sure your data roughly fits a bell curve shape before running certain statistical tests or regression.</b> \n",
    "\n",
    "<i>Anderson-Darling test for data coming from a particular distribution.\n",
    "\n",
    "The Anderson-Darling tests <b>the null hypothesis that a sample is drawn from a population that follows a particular distribution.</b> For the Anderson-Darling test, the critical values depend on which distribution is being tested against. This function works for normal, exponential, logistic, or Gumbel (Extreme Value Type I) distributions.</i>\n",
    "\n",
    "Interpretation (In default case):<br>\n",
    "\n",
    "$H_{0}$: the Population has a Normal distribution. <br>\n",
    "$H_{1}$: the Population does not have a Normal distribution."
   ]
  },
  {
   "cell_type": "code",
   "execution_count": 47,
   "metadata": {
    "ExecuteTime": {
     "end_time": "2020-06-24T10:32:46.084570Z",
     "start_time": "2020-06-24T10:32:46.064929Z"
    }
   },
   "outputs": [
    {
     "data": {
      "text/plain": [
       "AndersonResult(statistic=0.3823807262251222, critical_values=array([0.559, 0.636, 0.763, 0.891, 1.059]), significance_level=array([15. , 10. ,  5. ,  2.5,  1. ]))"
      ]
     },
     "execution_count": 47,
     "metadata": {},
     "output_type": "execute_result"
    }
   ],
   "source": [
    "# Anderson is stat < critical value for accepting H0 (fail to reject H0) when data = is normal distributed (or the designed dist)\n",
    "# Anderson is stat > critical value for rejecting H0 (Accept H1) when data =/= is normal distributed (or the designed dist)\n",
    "\n",
    "anderson(titanic[titanic['Survived'] == 1]['Age'])"
   ]
  },
  {
   "cell_type": "markdown",
   "metadata": {},
   "source": [
    "Goodnes fit of test, <b>apapun yang menguji data kita mengikuti suatu distribusi dinamakan goodness fit of test.</b> <br>\n",
    "$H_{0}$ : Data mengikuti Distribusi yang ditentukan (ex: Normal) <br>\n",
    "$H_{1}$: Data tidak mengikuti distribusi yang ditentukan"
   ]
  },
  {
   "cell_type": "markdown",
   "metadata": {},
   "source": [
    "## Shapiro-Wilk \n",
    "\n",
    "The Shapiro-Wilk test is a way to tell <b> if a random sample comes from a normal distribution.</b> The test gives you a $W$ value; small values indicate your sample is not normally distributed (you can reject the null hypothesis that your population is normally distributed if your values are under a certain threshold). The test-statistics ($W$) is:\n",
    "\n",
    "$$W = \\frac{\\left (\\sum_{i=1}^{n}a_{i}x_{i}  \\right )^{2}}{\\sum_{i=1}^{n}\\left ( x_{i}-\\bar{x} \\right )^{2}}$$\n",
    "\n",
    "where: <br>\n",
    "$x_{i}$ are the ordered random sample values <br>\n",
    "$a_{i}$ are constants generated from the covariances, variances and means of the sample (size n) from a normally distributed sample.\n",
    "<br><br>\n",
    "Interpretation:\n",
    "<br>\n",
    "$H_{0}$: the Population has a Normal distribution. <br>\n",
    "$H_{1}$: the Population does not have a Normal distribution.\n"
   ]
  },
  {
   "cell_type": "code",
   "execution_count": 48,
   "metadata": {
    "ExecuteTime": {
     "end_time": "2020-06-24T10:33:21.308317Z",
     "start_time": "2020-06-24T10:33:21.229045Z"
    }
   },
   "outputs": [
    {
     "data": {
      "text/plain": [
       "{'Anderson': {15.0: 0.559,\n",
       "  10.0: 0.636,\n",
       "  5.0: 0.763,\n",
       "  2.5: 0.891,\n",
       "  1.0: 1.059,\n",
       "  'Test statistic': 0.3823807262251222},\n",
       " 'Shapiro (P-value)': 0.32029926776885986,\n",
       " 'K^2 (P-value)': 0.8136339344700746}"
      ]
     },
     "execution_count": 48,
     "metadata": {},
     "output_type": "execute_result"
    }
   ],
   "source": [
    "#Goodnes fit of test, apapun yang menguji data kita mengikuti suatu distribusi dinamakan goodness fit of test\n",
    "#H0 : Data mengikuti Distribusi yang ditentukan (ex: Normal)\n",
    "#H1: Data tidak mengikuti distribusi yang ditentukan \n",
    "\n",
    "try_normal(titanic[titanic['Survived'] == 1]['Age'])"
   ]
  },
  {
   "cell_type": "markdown",
   "metadata": {},
   "source": [
    "# Non-Parametric (Definition)\n",
    "<b>If the data does not have the familiar Gaussian distribution, we must resort to nonparametric version of the significance tests. </b> These tests operate in a similar manner, but are distribution free, requiring that real valued data be first transformed into rank data before the test can be performed."
   ]
  },
  {
   "cell_type": "markdown",
   "metadata": {
    "ExecuteTime": {
     "end_time": "2020-06-24T10:34:44.923426Z",
     "start_time": "2020-06-24T10:34:44.888304Z"
    }
   },
   "source": [
    "# Tests of significance Difference (Independence Test)\n",
    "\n",
    "Tests of significance are used to tell us whether the differences between the two sets of sample data are truly significant or whether these differences could have occurred by chance. Tests of significance tell us the probability level that differences between the two areas, X and Y are due to chance.\n",
    "\n",
    "## T-Test Independent\n",
    "<i>(For Parametric)</i>\n",
    "\n",
    "The Independent Samples T-Test compares two sample means to determine whether <b>the population means are significantly different.</b> \n",
    "\n",
    "<b>Assumptions:</b>\n",
    "\n",
    "\n",
    "* <b>Assumption of Independence</b>: you need two independent, categorical groups that represent your independent variable. In example, test scores “males” or “females” would be your independent variable.\n",
    "* <b>Assumption of normality</b>: the dependent variable should be approximately normally distributed. The dependent variable should also be measured on a continuous scale. In the above example on average test scores, the “test score” would be the dependent variable.\n",
    "* <b>Assumption of Homogeneity of Variance</b>: The variances of the dependent variable should be equal. Testable using F-test, Levene's test, Bartlett's test, or the Brown–Forsythe test; or assessable graphically using a Q–Q plot.\n",
    "\n",
    "<br>\n",
    "Interpretation:\n",
    "<br>\n",
    "$H_{0}$: the means of the population are equal. <br>\n",
    "$H_{1}$: the means of the population are unequal. \n",
    "<br>\n",
    "\n",
    "Fail to Reject $H_{0}$: Population distributions are equal.<br>\n",
    "Reject $H_{0}$: Population distributions are not equal."
   ]
  },
  {
   "cell_type": "code",
   "execution_count": 51,
   "metadata": {
    "ExecuteTime": {
     "end_time": "2020-06-24T10:36:17.357585Z",
     "start_time": "2020-06-24T10:36:17.318500Z"
    }
   },
   "outputs": [
    {
     "name": "stdout",
     "output_type": "stream",
     "text": [
      "T-Statistic: 3.4671799996491983\n",
      "P-Value: 0.0007481344293761371\n"
     ]
    }
   ],
   "source": [
    "#H0 : Tidak ada perbedaan (secara signifikan) umur antara yang survived dan tidak\n",
    "from scipy.stats import ttest_ind\n",
    "\n",
    "result = list(ttest_ind(titanic[titanic['Survived'] == 0]['Age'], \n",
    "                        titanic[titanic['Survived'] == 1]['Age'], equal_var = False))\n",
    "print('T-Statistic:', result[0])\n",
    "print('P-Value:', result[1])"
   ]
  },
  {
   "cell_type": "markdown",
   "metadata": {},
   "source": [
    "## Mann-Whitney U Test\n",
    "\n",
    "<i>(For Non-Parametric)</i><br>\n",
    "\n",
    "The Mann-Whitney U test <b>determines whether there is a statistically significant difference between TWO unrelated, independent groups on a dependent variable.</b>\n",
    "\n",
    "<b> <i>The Mann-Whitney U test is the nonparametric equivalent to the independent T-test </i> and the appropriate analysis to compare differences that come from the same population when the dependent variable is ordinal (Leech, Barrett & Morgan, 2005).</b>\n",
    "\n",
    "<b>Assumptions:</b>\n",
    "\n",
    "\n",
    "* <b>The dependent variable should be measured on an ordinal scale or a continuous scale.</b>\n",
    "* <b>The independent variable should be two independent, categorical groups.</b>\n",
    "* <b>Observations should be independent.</b> In other words, there should be no relationship between the two groups or within each group.\n",
    "* <b>Observations are not normally distributed.</b> However, they should follow the same shape (i.e. both are bell-shaped and skewed left).\n",
    "\n",
    "\n",
    "Interpretation:\n",
    "<br>\n",
    "$H_{0}$: the medians of the population are equal. <br>\n",
    "$H_{1}$: the medians of the population are unequal. \n",
    "<br>\n",
    "\n",
    "Fail to Reject $H_{0}$: Population distributions are equal.<br>\n",
    "Reject $H_{0}$: Population distributions are not equal.\n",
    "\n"
   ]
  },
  {
   "cell_type": "code",
   "execution_count": 52,
   "metadata": {
    "ExecuteTime": {
     "end_time": "2020-06-24T10:37:00.605160Z",
     "start_time": "2020-06-24T10:37:00.574561Z"
    }
   },
   "outputs": [
    {
     "name": "stdout",
     "output_type": "stream",
     "text": [
      "U-Statistic: 2523.0\n",
      "P-Value: 0.0002613015710588577\n"
     ]
    }
   ],
   "source": [
    "#Non-Parametric Test jika asumsi untuk Parametric Test tidak terpenuhi\n",
    "#mannwhitneyu test sebanding dengan independent t-test dalam artian melihat perbedaan satu kelompok dengan kelompok lainnya.\n",
    "#Non-Parametric tests are valid when our sample size is small and your data are potentially nonnormal\n",
    "#H0 : Tidak berpengaruh\n",
    "from scipy.stats import mannwhitneyu\n",
    "result = list(mannwhitneyu(titanic[titanic['Survived'] == 0]['Age'], \n",
    "                        titanic[titanic['Survived'] == 1]['Age']))\n",
    "print('U-Statistic:', result[0])\n",
    "print('P-Value:', result[1])"
   ]
  },
  {
   "cell_type": "markdown",
   "metadata": {},
   "source": [
    "# Test for Equality of Variances\n",
    "\n",
    "\n",
    "## Bartlett's Test \n",
    "(For <i>parametric</i>)\n",
    "\n",
    "Bartlett’s test for homogeneity of variances is used to test that variances are equal for all samples. \n",
    "\n",
    "\n",
    "## Levene's Test\n",
    "(<i>For non-parametric</i>)\n",
    "\n",
    "Levene’s test is used to check that variances are equal for all samples when your data comes from a <b>non normal distribution</b>. \n",
    "\n",
    "\n",
    "<br>\n",
    "Interpretation:\n",
    "<br>\n",
    "$H_{0}$: The variances are equal for all samples. <br>\n",
    "$H_{1}$: The variances are not equal for one pair or more.\n",
    "<br>"
   ]
  },
  {
   "cell_type": "code",
   "execution_count": 53,
   "metadata": {
    "ExecuteTime": {
     "end_time": "2020-06-24T10:37:45.015835Z",
     "start_time": "2020-06-24T10:37:44.970427Z"
    }
   },
   "outputs": [
    {
     "data": {
      "text/plain": [
       "{'Bartlett': {'Bartlett-Stat': 0.24622748740777178,\n",
       "  'P-value': 0.6197440361869693},\n",
       " 'Levene': {'Levene-Stat': 0.4652841402717659, 'P-Value': 0.4960366882675361}}"
      ]
     },
     "execution_count": 53,
     "metadata": {},
     "output_type": "execute_result"
    }
   ],
   "source": [
    "from scipy.stats import levene, bartlett \n",
    "\n",
    "#Bartlett and Levene are test to see if the both sample have equal variance or not.\n",
    "#Both test have H0: Equal Variance and H1: The Variance between the group is different\n",
    "\n",
    "#We use the Bartlett test if the samples are come from the Normal Distribution and Levene test if the sample skewed or\n",
    "#deviate from the Normal Distribution\n",
    "\n",
    "#Levene for non-parametric\n",
    "\n",
    "def try_equal_var(x1,x2):\n",
    "    result = {'Bartlett': {'Bartlett-Stat' : bartlett(x1,x2)[0], 'P-value': bartlett(x1,x2)[1]},\n",
    "             'Levene': {'Levene-Stat': levene(x1,x2)[0], 'P-Value': levene(x1,x2)[1]}}\n",
    "    return result\n",
    "\n",
    "try_equal_var(titanic[titanic['Survived'] == 0]['Age'],\n",
    "             titanic[titanic['Survived'] == 1]['Age'])"
   ]
  },
  {
   "cell_type": "code",
   "execution_count": 54,
   "metadata": {
    "ExecuteTime": {
     "end_time": "2020-06-24T10:38:20.413646Z",
     "start_time": "2020-06-24T10:38:20.394954Z"
    }
   },
   "outputs": [
    {
     "data": {
      "text/plain": [
       "BartlettResult(statistic=0.24622748740777178, pvalue=0.6197440361869693)"
      ]
     },
     "execution_count": 54,
     "metadata": {},
     "output_type": "execute_result"
    }
   ],
   "source": [
    "bartlett(titanic[titanic['Survived'] == 0]['Age'],\n",
    "             titanic[titanic['Survived'] == 1]['Age'])"
   ]
  },
  {
   "cell_type": "code",
   "execution_count": 55,
   "metadata": {
    "ExecuteTime": {
     "end_time": "2020-06-24T10:38:40.408630Z",
     "start_time": "2020-06-24T10:38:40.390397Z"
    }
   },
   "outputs": [
    {
     "data": {
      "text/plain": [
       "LeveneResult(statistic=0.4652841402717659, pvalue=0.4960366882675361)"
      ]
     },
     "execution_count": 55,
     "metadata": {},
     "output_type": "execute_result"
    }
   ],
   "source": [
    "levene(titanic[titanic['Survived'] == 0]['Age'],\n",
    "             titanic[titanic['Survived'] == 1]['Age'])"
   ]
  },
  {
   "cell_type": "markdown",
   "metadata": {},
   "source": [
    "<b>Bisa lebih dari 2 group juga untuk menguji Variance Equal</b>"
   ]
  },
  {
   "cell_type": "code",
   "execution_count": 59,
   "metadata": {
    "ExecuteTime": {
     "end_time": "2020-06-24T10:39:25.138606Z",
     "start_time": "2020-06-24T10:39:25.129811Z"
    }
   },
   "outputs": [
    {
     "data": {
      "text/plain": [
       "array([1, 3, 2])"
      ]
     },
     "execution_count": 59,
     "metadata": {},
     "output_type": "execute_result"
    }
   ],
   "source": [
    "titanic['Pclass'].unique()"
   ]
  },
  {
   "cell_type": "code",
   "execution_count": 62,
   "metadata": {
    "ExecuteTime": {
     "end_time": "2020-06-24T10:40:22.619803Z",
     "start_time": "2020-06-24T10:40:22.596043Z"
    }
   },
   "outputs": [],
   "source": [
    "ageClass1 = titanic[titanic['Pclass'] == 1]['Age']\n",
    "ageClass2 = titanic[titanic['Pclass'] == 2]['Age']\n",
    "ageClass3 = titanic[titanic['Pclass'] == 3]['Age']"
   ]
  },
  {
   "cell_type": "code",
   "execution_count": 67,
   "metadata": {
    "ExecuteTime": {
     "end_time": "2020-06-24T10:40:52.039915Z",
     "start_time": "2020-06-24T10:40:52.028700Z"
    }
   },
   "outputs": [
    {
     "data": {
      "text/plain": [
       "BartlettResult(statistic=0.43596017344459, pvalue=0.8041414545992237)"
      ]
     },
     "execution_count": 67,
     "metadata": {},
     "output_type": "execute_result"
    }
   ],
   "source": [
    "bartlett(ageClass1, ageClass2, ageClass3)"
   ]
  },
  {
   "cell_type": "code",
   "execution_count": 65,
   "metadata": {
    "ExecuteTime": {
     "end_time": "2020-06-24T10:40:44.428133Z",
     "start_time": "2020-06-24T10:40:44.416472Z"
    }
   },
   "outputs": [
    {
     "data": {
      "text/plain": [
       "LeveneResult(statistic=0.2809810296154258, pvalue=0.7553732149818655)"
      ]
     },
     "execution_count": 65,
     "metadata": {},
     "output_type": "execute_result"
    }
   ],
   "source": [
    "levene(ageClass1, ageClass2, ageClass3)"
   ]
  },
  {
   "cell_type": "markdown",
   "metadata": {},
   "source": [
    "# Significance test for MORE THAN TWO GROUPS\n",
    "\n",
    "## One-Way ANOVA (FOR PARAMETRIC)\n",
    "\n",
    "Background:<br>\n",
    "With only two groups of observations we could compare the two group means using a t-test. When we have <b>MORE THAN TWO GROUPS,</b> it is inappropriate to simply compare each pair using a t-test because of the problem of multiple testing. The correct way to do the analysis is to use a one-way analysis of variance (ANOVAANOVA) to evaluate whether there is any evidence that the means of the populations differ.<br>\n",
    "\n",
    "The one-way analysis of variance (ANOVA) is used to determine whether there are any <b>statistically significant differences between the means of three or more independent (unrelated) groups.</b> Basically, you’re testing groups to see if there’s a <b>difference between them.</b> \n",
    "\n",
    "<b>A one way ANOVA is used to compare two means from two independent (unrelated) groups using the F-distribution. The null hypothesis for the test is that the two means are equal. Therefore, a significant result means that the two means are unequal.</b>\n",
    "\n",
    "<b>Assumption:</b>\n",
    "* <b>The samples are independent.</b>\n",
    "* <b>Each sample is from a normally distributed population.</b>\n",
    "* <b>The population standard deviations of the groups are all equal.</b>  This property is known as <i>homoscedasticity</i>.\n",
    "\n",
    "\n",
    "Interpretation:<br>\n",
    "$H_{0}$: population mean all equal between the group <br>\n",
    "$H_{1}$: at least one of the population mean between the group is not equal"
   ]
  },
  {
   "cell_type": "code",
   "execution_count": 68,
   "metadata": {
    "ExecuteTime": {
     "end_time": "2020-06-24T10:42:36.435423Z",
     "start_time": "2020-06-24T10:42:36.420271Z"
    }
   },
   "outputs": [],
   "source": [
    "ageClass1 = titanic[titanic['Pclass'] == 1]['Age']\n",
    "ageClass2 = titanic[titanic['Pclass'] == 2]['Age']\n",
    "ageClass3 = titanic[titanic['Pclass'] == 3]['Age']"
   ]
  },
  {
   "cell_type": "code",
   "execution_count": 69,
   "metadata": {
    "ExecuteTime": {
     "end_time": "2020-06-24T10:42:58.823664Z",
     "start_time": "2020-06-24T10:42:58.804409Z"
    }
   },
   "outputs": [
    {
     "data": {
      "text/plain": [
       "F_onewayResult(statistic=9.762703872790492, pvalue=9.433803581462056e-05)"
      ]
     },
     "execution_count": 69,
     "metadata": {},
     "output_type": "execute_result"
    }
   ],
   "source": [
    "from scipy.stats import f_oneway, kruskal\n",
    "\n",
    "f_oneway(ageClass1, ageClass2, ageClass3)"
   ]
  },
  {
   "cell_type": "markdown",
   "metadata": {},
   "source": [
    "### Tukey's Test (Post-hoc Test)\n",
    "\n",
    "Since Tukey's test is a post-hoc test, we must first fit a linear regression model and perform ANOVA on the data.\n",
    "\n",
    "If the ANOVAANOVA leads to a conclusion that there is evidence that the group means differ, we might then be interested in investigating which of the means are different. This is where the Tukey multiple comparison test is used. The test compares the difference between each pair of means with appropriate adjustment for the multiple testing. The results are presented as a matrix showing the result for each pair, either as a P-value or as a conÆdence interval. \n",
    "\n",
    "The Tukey multiple comparison test, like both the t-test and ANOVAANOVA, assumes that the data from the different groups come from populations where the observations have a normal distribution and the standard deviation is the same for each group.\n"
   ]
  },
  {
   "cell_type": "code",
   "execution_count": 70,
   "metadata": {
    "ExecuteTime": {
     "end_time": "2020-06-24T10:43:27.977409Z",
     "start_time": "2020-06-24T10:43:22.376810Z"
    }
   },
   "outputs": [
    {
     "name": "stderr",
     "output_type": "stream",
     "text": [
      "/home/user/anaconda3/lib/python3.7/site-packages/outdated/utils.py:18: OutdatedPackageWarning: The package pingouin is out of date. Your version is 0.3.3, the latest is 0.3.5.\n",
      "Set the environment variable OUTDATED_IGNORE=1 to disable these warnings.\n",
      "  **kwargs\n"
     ]
    }
   ],
   "source": [
    "from pingouin import pairwise_tukey"
   ]
  },
  {
   "cell_type": "code",
   "execution_count": 72,
   "metadata": {
    "ExecuteTime": {
     "end_time": "2020-06-24T10:44:05.049723Z",
     "start_time": "2020-06-24T10:44:04.687436Z"
    }
   },
   "outputs": [
    {
     "data": {
      "text/html": [
       "<div>\n",
       "<style scoped>\n",
       "    .dataframe tbody tr th:only-of-type {\n",
       "        vertical-align: middle;\n",
       "    }\n",
       "\n",
       "    .dataframe tbody tr th {\n",
       "        vertical-align: top;\n",
       "    }\n",
       "\n",
       "    .dataframe thead th {\n",
       "        text-align: right;\n",
       "    }\n",
       "</style>\n",
       "<table border=\"1\" class=\"dataframe\">\n",
       "  <thead>\n",
       "    <tr style=\"text-align: right;\">\n",
       "      <th></th>\n",
       "      <th>A</th>\n",
       "      <th>B</th>\n",
       "      <th>mean(A)</th>\n",
       "      <th>mean(B)</th>\n",
       "      <th>diff</th>\n",
       "      <th>se</th>\n",
       "      <th>tail</th>\n",
       "      <th>T</th>\n",
       "      <th>p-tukey</th>\n",
       "      <th>hedges</th>\n",
       "    </tr>\n",
       "  </thead>\n",
       "  <tbody>\n",
       "    <tr>\n",
       "      <th>0</th>\n",
       "      <td>1</td>\n",
       "      <td>2</td>\n",
       "      <td>37.591</td>\n",
       "      <td>25.267</td>\n",
       "      <td>12.325</td>\n",
       "      <td>4.037</td>\n",
       "      <td>two-sided</td>\n",
       "      <td>3.053</td>\n",
       "      <td>0.006548</td>\n",
       "      <td>0.821</td>\n",
       "    </tr>\n",
       "    <tr>\n",
       "      <th>1</th>\n",
       "      <td>1</td>\n",
       "      <td>3</td>\n",
       "      <td>37.591</td>\n",
       "      <td>21.000</td>\n",
       "      <td>16.591</td>\n",
       "      <td>4.872</td>\n",
       "      <td>two-sided</td>\n",
       "      <td>3.405</td>\n",
       "      <td>0.001968</td>\n",
       "      <td>1.105</td>\n",
       "    </tr>\n",
       "    <tr>\n",
       "      <th>2</th>\n",
       "      <td>2</td>\n",
       "      <td>3</td>\n",
       "      <td>25.267</td>\n",
       "      <td>21.000</td>\n",
       "      <td>4.267</td>\n",
       "      <td>6.100</td>\n",
       "      <td>two-sided</td>\n",
       "      <td>0.699</td>\n",
       "      <td>0.768178</td>\n",
       "      <td>0.276</td>\n",
       "    </tr>\n",
       "  </tbody>\n",
       "</table>\n",
       "</div>"
      ],
      "text/plain": [
       "   A  B  mean(A)  mean(B)    diff     se       tail      T   p-tukey  hedges\n",
       "0  1  2   37.591   25.267  12.325  4.037  two-sided  3.053  0.006548   0.821\n",
       "1  1  3   37.591   21.000  16.591  4.872  two-sided  3.405  0.001968   1.105\n",
       "2  2  3   25.267   21.000   4.267  6.100  two-sided  0.699  0.768178   0.276"
      ]
     },
     "execution_count": 72,
     "metadata": {},
     "output_type": "execute_result"
    }
   ],
   "source": [
    "pairwise_tukey(data = titanic, dv = 'Age', between = 'Pclass')\n",
    "\n",
    "# T => Tes Statistik\n",
    "# p-tukey => P-value Tukey\n",
    "# H0 : tidak ada perbedaan."
   ]
  },
  {
   "cell_type": "markdown",
   "metadata": {},
   "source": [
    "## Welch’s ANOVA\n",
    "\n",
    "Welch’s ANOVA compares two means to see if they are equal. It is an alternative to the Classic ANOVA and can be used even if your data <b>VIOLATES the assumption of homogeneity of variances (<i>No Homoscedasticity</i>).</b>\n",
    "\n",
    "<b>-Homogeneity of variance</b> means equal variances between independent groups."
   ]
  },
  {
   "cell_type": "code",
   "execution_count": 73,
   "metadata": {
    "ExecuteTime": {
     "end_time": "2020-06-24T10:45:46.053673Z",
     "start_time": "2020-06-24T10:45:46.043030Z"
    }
   },
   "outputs": [],
   "source": [
    "from pingouin import welch_anova\n",
    "#welch_anova variansinya tidak equal"
   ]
  },
  {
   "cell_type": "code",
   "execution_count": 74,
   "metadata": {
    "ExecuteTime": {
     "end_time": "2020-06-24T10:46:10.368555Z",
     "start_time": "2020-06-24T10:46:10.352654Z"
    }
   },
   "outputs": [
    {
     "data": {
      "text/plain": [
       "BartlettResult(statistic=0.43596017344459, pvalue=0.8041414545992237)"
      ]
     },
     "execution_count": 74,
     "metadata": {},
     "output_type": "execute_result"
    }
   ],
   "source": [
    "bartlett(ageClass1, ageClass2, ageClass3)"
   ]
  },
  {
   "cell_type": "code",
   "execution_count": 75,
   "metadata": {
    "ExecuteTime": {
     "end_time": "2020-06-24T10:46:24.643054Z",
     "start_time": "2020-06-24T10:46:24.631973Z"
    }
   },
   "outputs": [
    {
     "data": {
      "text/plain": [
       "LeveneResult(statistic=0.2809810296154258, pvalue=0.7553732149818655)"
      ]
     },
     "execution_count": 75,
     "metadata": {},
     "output_type": "execute_result"
    }
   ],
   "source": [
    "levene(ageClass1, ageClass2, ageClass3)"
   ]
  },
  {
   "cell_type": "code",
   "execution_count": 77,
   "metadata": {
    "ExecuteTime": {
     "end_time": "2020-06-24T10:47:17.466275Z",
     "start_time": "2020-06-24T10:47:17.405476Z"
    }
   },
   "outputs": [
    {
     "data": {
      "text/html": [
       "<div>\n",
       "<style scoped>\n",
       "    .dataframe tbody tr th:only-of-type {\n",
       "        vertical-align: middle;\n",
       "    }\n",
       "\n",
       "    .dataframe tbody tr th {\n",
       "        vertical-align: top;\n",
       "    }\n",
       "\n",
       "    .dataframe thead th {\n",
       "        text-align: right;\n",
       "    }\n",
       "</style>\n",
       "<table border=\"1\" class=\"dataframe\">\n",
       "  <thead>\n",
       "    <tr style=\"text-align: right;\">\n",
       "      <th></th>\n",
       "      <th>Source</th>\n",
       "      <th>ddof1</th>\n",
       "      <th>ddof2</th>\n",
       "      <th>F</th>\n",
       "      <th>p-unc</th>\n",
       "    </tr>\n",
       "  </thead>\n",
       "  <tbody>\n",
       "    <tr>\n",
       "      <th>0</th>\n",
       "      <td>Pclass</td>\n",
       "      <td>2</td>\n",
       "      <td>16.862</td>\n",
       "      <td>10.184</td>\n",
       "      <td>0.001258</td>\n",
       "    </tr>\n",
       "  </tbody>\n",
       "</table>\n",
       "</div>"
      ],
      "text/plain": [
       "   Source  ddof1   ddof2       F     p-unc\n",
       "0  Pclass      2  16.862  10.184  0.001258"
      ]
     },
     "execution_count": 77,
     "metadata": {},
     "output_type": "execute_result"
    }
   ],
   "source": [
    "welch_anova(data = titanic, dv = 'Age', between = 'Pclass')"
   ]
  },
  {
   "cell_type": "markdown",
   "metadata": {},
   "source": [
    "### Games Howell Test (Post-hoc Test)\n",
    "\n",
    "Games-Howell post-hoc tests for Welch's one-way analysis of variance (ANOVA). <br>\n",
    "\n",
    "Performs Games-Howell test, which is used to compare all possible combinations of group differences when the assumption of homogeneity of variances is violated. "
   ]
  },
  {
   "cell_type": "code",
   "execution_count": 78,
   "metadata": {
    "ExecuteTime": {
     "end_time": "2020-06-24T10:50:27.187764Z",
     "start_time": "2020-06-24T10:50:27.182143Z"
    }
   },
   "outputs": [],
   "source": [
    "from pingouin import pairwise_gameshowell"
   ]
  },
  {
   "cell_type": "code",
   "execution_count": 79,
   "metadata": {
    "ExecuteTime": {
     "end_time": "2020-06-24T10:50:48.667140Z",
     "start_time": "2020-06-24T10:50:48.334053Z"
    },
    "scrolled": true
   },
   "outputs": [
    {
     "data": {
      "text/html": [
       "<div>\n",
       "<style scoped>\n",
       "    .dataframe tbody tr th:only-of-type {\n",
       "        vertical-align: middle;\n",
       "    }\n",
       "\n",
       "    .dataframe tbody tr th {\n",
       "        vertical-align: top;\n",
       "    }\n",
       "\n",
       "    .dataframe thead th {\n",
       "        text-align: right;\n",
       "    }\n",
       "</style>\n",
       "<table border=\"1\" class=\"dataframe\">\n",
       "  <thead>\n",
       "    <tr style=\"text-align: right;\">\n",
       "      <th></th>\n",
       "      <th>A</th>\n",
       "      <th>B</th>\n",
       "      <th>mean(A)</th>\n",
       "      <th>mean(B)</th>\n",
       "      <th>diff</th>\n",
       "      <th>se</th>\n",
       "      <th>tail</th>\n",
       "      <th>T</th>\n",
       "      <th>df</th>\n",
       "      <th>pval</th>\n",
       "      <th>hedges</th>\n",
       "    </tr>\n",
       "  </thead>\n",
       "  <tbody>\n",
       "    <tr>\n",
       "      <th>0</th>\n",
       "      <td>1</td>\n",
       "      <td>2</td>\n",
       "      <td>37.591</td>\n",
       "      <td>25.267</td>\n",
       "      <td>12.325</td>\n",
       "      <td>3.073</td>\n",
       "      <td>two-sided</td>\n",
       "      <td>2.836</td>\n",
       "      <td>16.338</td>\n",
       "      <td>0.015260</td>\n",
       "      <td>0.763</td>\n",
       "    </tr>\n",
       "    <tr>\n",
       "      <th>1</th>\n",
       "      <td>1</td>\n",
       "      <td>3</td>\n",
       "      <td>37.591</td>\n",
       "      <td>21.000</td>\n",
       "      <td>16.591</td>\n",
       "      <td>3.067</td>\n",
       "      <td>two-sided</td>\n",
       "      <td>3.826</td>\n",
       "      <td>10.512</td>\n",
       "      <td>0.001000</td>\n",
       "      <td>1.242</td>\n",
       "    </tr>\n",
       "    <tr>\n",
       "      <th>2</th>\n",
       "      <td>2</td>\n",
       "      <td>3</td>\n",
       "      <td>25.267</td>\n",
       "      <td>21.000</td>\n",
       "      <td>4.267</td>\n",
       "      <td>4.176</td>\n",
       "      <td>two-sided</td>\n",
       "      <td>0.722</td>\n",
       "      <td>21.934</td>\n",
       "      <td>0.733475</td>\n",
       "      <td>0.285</td>\n",
       "    </tr>\n",
       "  </tbody>\n",
       "</table>\n",
       "</div>"
      ],
      "text/plain": [
       "   A  B  mean(A)  mean(B)    diff     se       tail      T      df      pval  \\\n",
       "0  1  2   37.591   25.267  12.325  3.073  two-sided  2.836  16.338  0.015260   \n",
       "1  1  3   37.591   21.000  16.591  3.067  two-sided  3.826  10.512  0.001000   \n",
       "2  2  3   25.267   21.000   4.267  4.176  two-sided  0.722  21.934  0.733475   \n",
       "\n",
       "   hedges  \n",
       "0   0.763  \n",
       "1   1.242  \n",
       "2   0.285  "
      ]
     },
     "execution_count": 79,
     "metadata": {},
     "output_type": "execute_result"
    }
   ],
   "source": [
    "pairwise_gameshowell(data = titanic, dv = 'Age', between = 'Pclass')"
   ]
  },
  {
   "cell_type": "markdown",
   "metadata": {},
   "source": [
    "## Kruskal-Wallis (FOR NON-PARAMETRIC) \n",
    "\n",
    "The Kruskal Wallis test is the <b><i>non parametric</i> alternative to the One Way ANOVA.</b> Non parametric means that the test doesn’t assume your data comes from a particular distribution.\n",
    "\n",
    "<b>The Kruskal Wallis test will tell you if there is a significant difference between groups. However, it won’t tell you which groups are different.</b>\n",
    "\n",
    "<b>Assumptions:</b>\n",
    "* <b>One independent variable with two or more levels (independent groups).</b> The test is more commonly used when you have three or more levels. For two levels, consider using the Mann Whitney U Test instead.\n",
    "* <b>Ordinal scale, Ratio Scale or Interval scale dependent variables.</b>\n",
    "* <b>Your observations should be independent.</b> In other words, there should be no relationship between the members in each group or between groups. For more information on this point, see: Assumption of Independence.\n",
    "* <b>It has no distributional assumptions.</b> If it used to compare medians, the distributions must be similar apart from their locations. \n",
    "\n",
    "\n",
    "Interpretation:<br>\n",
    "$H_{0}$: population median of all of the groups are equal.<br>\n",
    "$H_{1}$: population median of at least one of the group are not equal.\n"
   ]
  },
  {
   "cell_type": "code",
   "execution_count": 80,
   "metadata": {
    "ExecuteTime": {
     "end_time": "2020-06-24T10:52:46.976255Z",
     "start_time": "2020-06-24T10:52:46.956617Z"
    }
   },
   "outputs": [
    {
     "data": {
      "text/plain": [
       "KruskalResult(statistic=14.382232354470908, pvalue=0.0007532478929505891)"
      ]
     },
     "execution_count": 80,
     "metadata": {},
     "output_type": "execute_result"
    }
   ],
   "source": [
    "from scipy.stats import kruskal\n",
    "\n",
    "kruskal(ageClass1, ageClass2, ageClass3)"
   ]
  },
  {
   "cell_type": "markdown",
   "metadata": {},
   "source": [
    "### Post Hoc Test\n",
    "If Paired is True it used Wilcoxon Test, if not it used Mann-Whitney Test."
   ]
  },
  {
   "cell_type": "code",
   "execution_count": 81,
   "metadata": {
    "ExecuteTime": {
     "end_time": "2020-06-24T10:53:21.909585Z",
     "start_time": "2020-06-24T10:53:21.779954Z"
    }
   },
   "outputs": [
    {
     "data": {
      "text/html": [
       "<div>\n",
       "<style scoped>\n",
       "    .dataframe tbody tr th:only-of-type {\n",
       "        vertical-align: middle;\n",
       "    }\n",
       "\n",
       "    .dataframe tbody tr th {\n",
       "        vertical-align: top;\n",
       "    }\n",
       "\n",
       "    .dataframe thead th {\n",
       "        text-align: right;\n",
       "    }\n",
       "</style>\n",
       "<table border=\"1\" class=\"dataframe\">\n",
       "  <thead>\n",
       "    <tr style=\"text-align: right;\">\n",
       "      <th></th>\n",
       "      <th>Contrast</th>\n",
       "      <th>A</th>\n",
       "      <th>B</th>\n",
       "      <th>Paired</th>\n",
       "      <th>Parametric</th>\n",
       "      <th>U-val</th>\n",
       "      <th>Tail</th>\n",
       "      <th>p-unc</th>\n",
       "      <th>hedges</th>\n",
       "    </tr>\n",
       "  </thead>\n",
       "  <tbody>\n",
       "    <tr>\n",
       "      <th>0</th>\n",
       "      <td>Pclass</td>\n",
       "      <td>1</td>\n",
       "      <td>3</td>\n",
       "      <td>False</td>\n",
       "      <td>False</td>\n",
       "      <td>1236.5</td>\n",
       "      <td>two-sided</td>\n",
       "      <td>0.002781</td>\n",
       "      <td>1.114</td>\n",
       "    </tr>\n",
       "    <tr>\n",
       "      <th>1</th>\n",
       "      <td>Pclass</td>\n",
       "      <td>1</td>\n",
       "      <td>2</td>\n",
       "      <td>False</td>\n",
       "      <td>False</td>\n",
       "      <td>1654.0</td>\n",
       "      <td>two-sided</td>\n",
       "      <td>0.011465</td>\n",
       "      <td>0.817</td>\n",
       "    </tr>\n",
       "    <tr>\n",
       "      <th>2</th>\n",
       "      <td>Pclass</td>\n",
       "      <td>3</td>\n",
       "      <td>2</td>\n",
       "      <td>False</td>\n",
       "      <td>False</td>\n",
       "      <td>60.5</td>\n",
       "      <td>two-sided</td>\n",
       "      <td>0.436788</td>\n",
       "      <td>-0.273</td>\n",
       "    </tr>\n",
       "  </tbody>\n",
       "</table>\n",
       "</div>"
      ],
      "text/plain": [
       "  Contrast  A  B  Paired  Parametric   U-val       Tail     p-unc  hedges\n",
       "0   Pclass  1  3   False       False  1236.5  two-sided  0.002781   1.114\n",
       "1   Pclass  1  2   False       False  1654.0  two-sided  0.011465   0.817\n",
       "2   Pclass  3  2   False       False    60.5  two-sided  0.436788  -0.273"
      ]
     },
     "execution_count": 81,
     "metadata": {},
     "output_type": "execute_result"
    }
   ],
   "source": [
    "from pingouin import pairwise_ttests\n",
    "\n",
    "#Post hoc, jika paired pakai Wilcoxon kalau tidak pakai Mann-Whitney\n",
    "pairwise_ttests(data = titanic, dv = 'Age', between = 'Pclass', parametric = False)"
   ]
  },
  {
   "cell_type": "markdown",
   "metadata": {},
   "source": [
    "Dictionary: <br>\n",
    "'p-unc' : uncorelate p-value <br>\n",
    "'U-val' : U-test (tes statistik Wilcoxon atau Whitney)<br>\n",
    "<br>\n",
    "\n",
    "Hasil dari tabel di atas:<br>\n",
    "Category 10 sama 20 tidak ada perbedaan (H0 diterima)<br>\n",
    "$H_{0}$ : Tidak ada perbedaan atau pengaruh<br>\n",
    "$H_{1}$ : Ada perbedaan atau pengaruh<br>"
   ]
  },
  {
   "cell_type": "markdown",
   "metadata": {},
   "source": [
    "# Multivariate Analysis\n",
    "\n",
    "## Pearson & Spearman Correlation\n",
    "\n",
    "### Pearson's Correlation\n",
    "\n",
    "The Pearson correlation coefficient measures the <b>linear relationship between two datasets.</b> Strictly speaking, Pearson’s correlation <b>requires</b> that each dataset be <b>normally distributed</b>. Correlations of -1 or +1 imply an exact linear relationship.\n",
    "\n",
    "![linear](https://www.emathzone.com/wp-content/uploads/2014/10/linear-nonlinear-corrrelation.jpg)\n",
    "\n",
    "Consider a dataset with two features: x and y. Each feature has n values, so x and y are n-tuples. Say that the first value x₁ from x corresponds to the first value y₁ from y, the second value x₂ from x to the second value y₂ from y, and so on. Then, there are n pairs of corresponding values: (x₁, y₁), (x₂, y₂), and so on. Each of these x-y pairs represents a single observation.\n",
    "\n",
    "The **Pearson (product-moment) correlation coefficient** is a measure of the linear relationship between two features. It’s the ratio of the covariance of x and y to the product of their standard deviations.\n",
    "\n",
    "Here are some important facts about the Pearson correlation coefficient:\n",
    "\n",
    "-    The Pearson correlation coefficient can take on any real value in the range −1 ≤ r ≤ 1.\n",
    "\n",
    "-    The maximum value r = 1 corresponds to the case when there’s a perfect positive linear relationship between x and y. In other words, larger x values correspond to larger y values and vice versa.\n",
    "\n",
    "-    The value r > 0 indicates positive correlation between x and y.\n",
    "\n",
    "-    The value r = 0 corresponds to the case when x and y are independent.\n",
    "\n",
    "-    The value r < 0 indicates negative correlation between x and y.\n",
    "\n",
    "-    The minimal value r = −1 corresponds to the case when there’s a perfect negative linear relationship between x and y. In other words, larger x values correspond to smaller y values and vice versa.\n",
    "\n",
    "| Pearson’s r Value | Correlation Between x and y |\n",
    "| --- | --- |\n",
    "| equal to 1 | perfect positive linear relationship |\n",
    "| greater than 0 |  positive correlation |\n",
    "| equal to 0 | independent |\n",
    "| less than 0 | negative correlation |\n",
    "| equal to -1 | perfect negative linear relationship |\n",
    "\n",
    "![linear](https://saylordotorg.github.io/text_introductory-statistics/section_14/07aa5db140b70615a15e8631c2d7a2c4.jpg)"
   ]
  },
  {
   "cell_type": "markdown",
   "metadata": {
    "ExecuteTime": {
     "end_time": "2020-07-04T10:08:16.020512Z",
     "start_time": "2020-07-04T10:08:15.933931Z"
    }
   },
   "source": [
    "### Spearman Correlation\n",
    "\n",
    "The Spearman correlation is a <b>nonparametric measure of the monotonicity of the relationship (non-linear relationship) between two datasets</b>. Unlike the Pearson correlation, the Spearman correlation does <b>not assume that both datasets are normally distributed</b>. Correlations of -1 or +1 imply an exact monotonic relationship.\n",
    "\n",
    "The Spearman correlation coefficient between two features is the Pearson correlation coefficient between their rank values. It’s calculated the same way as the Pearson correlation coefficient but takes into account their ranks instead of their values. It’s often denoted with the Greek letter rho (ρ) and called Spearman’s rho.\n",
    "\n",
    "Say you have two n-tuples, x and y, where (x₁, y₁), (x₂, y₂), … are the observations as pairs of corresponding values. You can calculate the Spearman correlation coefficient ρ the same way as the Pearson coefficient. You’ll use the ranks instead of the actual values from x and y.\n",
    "\n",
    "Here are some important facts about the Spearman correlation coefficient:\n",
    "\n",
    "-    It can take a real value in the range −1 ≤ ρ ≤ 1.\n",
    "\n",
    "-    Its maximum value ρ = 1 corresponds to the case when there’s a monotonically increasing function between x and y. In other words, larger x values correspond to larger y values and vice versa.\n",
    "\n",
    "-    Its minimum value ρ = −1 corresponds to the case when there’s a monotonically decreasing function between x and y. In other words, larger x values correspond to smaller y values and vice versa.\n",
    "\n",
    "\n",
    "#### Rank Correlation\n",
    "\n",
    "**Rank correlation** compares the ranks or the orderings of the data related to two variables or dataset features. If the orderings are similar, then the correlation is strong, positive, and high. However, if the orderings are close to reversed, then the correlation is strong, negative, and low. In other words, rank correlation is concerned only with the order of values, not with the particular values from the dataset.\n",
    "\n",
    "To illustrate the difference between linear and rank correlation, consider the following figure:\n",
    "\n",
    "![rank](https://files.realpython.com/media/py-corr-2.ac1acc7812d0.png)\n",
    "\n",
    "The left plot has a perfect positive linear relationship between x and y, so r = 1. The central plot shows positive correlation and the right one shows negative correlation. However, neither of them is a linear function, so r is different than −1 or 1.\n",
    "\n",
    "When you look only at the orderings or ranks, all three relationships are perfect! The left and central plots show the observations where larger x values always correspond to larger y values. This is perfect positive rank correlation. The right plot illustrates the opposite case, which is perfect negative rank correlation."
   ]
  },
  {
   "cell_type": "code",
   "execution_count": 82,
   "metadata": {
    "ExecuteTime": {
     "end_time": "2020-06-24T10:54:23.909913Z",
     "start_time": "2020-06-24T10:54:23.901463Z"
    }
   },
   "outputs": [],
   "source": [
    "from pingouin import corr"
   ]
  },
  {
   "cell_type": "code",
   "execution_count": 90,
   "metadata": {
    "ExecuteTime": {
     "end_time": "2020-06-24T10:57:02.411481Z",
     "start_time": "2020-06-24T10:57:02.359843Z"
    }
   },
   "outputs": [
    {
     "data": {
      "text/html": [
       "<div>\n",
       "<style scoped>\n",
       "    .dataframe tbody tr th:only-of-type {\n",
       "        vertical-align: middle;\n",
       "    }\n",
       "\n",
       "    .dataframe tbody tr th {\n",
       "        vertical-align: top;\n",
       "    }\n",
       "\n",
       "    .dataframe thead th {\n",
       "        text-align: right;\n",
       "    }\n",
       "</style>\n",
       "<table border=\"1\" class=\"dataframe\">\n",
       "  <thead>\n",
       "    <tr style=\"text-align: right;\">\n",
       "      <th></th>\n",
       "      <th>n</th>\n",
       "      <th>r</th>\n",
       "      <th>CI95%</th>\n",
       "      <th>r2</th>\n",
       "      <th>adj_r2</th>\n",
       "      <th>p-val</th>\n",
       "      <th>BF10</th>\n",
       "      <th>power</th>\n",
       "    </tr>\n",
       "  </thead>\n",
       "  <tbody>\n",
       "    <tr>\n",
       "      <th>pearson</th>\n",
       "      <td>183</td>\n",
       "      <td>-0.092</td>\n",
       "      <td>[-0.23, 0.05]</td>\n",
       "      <td>0.009</td>\n",
       "      <td>-0.002</td>\n",
       "      <td>0.213358</td>\n",
       "      <td>0.199</td>\n",
       "      <td>0.238</td>\n",
       "    </tr>\n",
       "  </tbody>\n",
       "</table>\n",
       "</div>"
      ],
      "text/plain": [
       "           n      r          CI95%     r2  adj_r2     p-val   BF10  power\n",
       "pearson  183 -0.092  [-0.23, 0.05]  0.009  -0.002  0.213358  0.199  0.238"
      ]
     },
     "execution_count": 90,
     "metadata": {},
     "output_type": "execute_result"
    }
   ],
   "source": [
    "corr(titanic['Age'], titanic['Fare'],method = 'pearson')\n",
    "#H0 : Tidak ada hubungan secara non-linier (kalau spearman)\n",
    "#H0 : Tidak ada hubungan secara linier (Kalau Pearson)"
   ]
  },
  {
   "cell_type": "code",
   "execution_count": 87,
   "metadata": {
    "ExecuteTime": {
     "end_time": "2020-06-24T10:55:31.070792Z",
     "start_time": "2020-06-24T10:55:30.104935Z"
    }
   },
   "outputs": [
    {
     "data": {
      "text/plain": [
       "<matplotlib.axes._subplots.AxesSubplot at 0x7f05e8eba390>"
      ]
     },
     "execution_count": 87,
     "metadata": {},
     "output_type": "execute_result"
    },
    {
     "data": {
      "image/png": "[encoded data removed]",
      "text/plain": [
       "<Figure size 864x576 with 2 Axes>"
      ]
     },
     "metadata": {},
     "output_type": "display_data"
    }
   ],
   "source": [
    "plt.figure(figsize = (12,8))\n",
    "sns.heatmap(titanic.corr('pearson'), annot = True)"
   ]
  },
  {
   "cell_type": "code",
   "execution_count": 91,
   "metadata": {
    "ExecuteTime": {
     "end_time": "2020-06-24T10:57:09.682969Z",
     "start_time": "2020-06-24T10:57:09.629953Z"
    }
   },
   "outputs": [
    {
     "data": {
      "text/html": [
       "<div>\n",
       "<style scoped>\n",
       "    .dataframe tbody tr th:only-of-type {\n",
       "        vertical-align: middle;\n",
       "    }\n",
       "\n",
       "    .dataframe tbody tr th {\n",
       "        vertical-align: top;\n",
       "    }\n",
       "\n",
       "    .dataframe thead th {\n",
       "        text-align: right;\n",
       "    }\n",
       "</style>\n",
       "<table border=\"1\" class=\"dataframe\">\n",
       "  <thead>\n",
       "    <tr style=\"text-align: right;\">\n",
       "      <th></th>\n",
       "      <th>n</th>\n",
       "      <th>r</th>\n",
       "      <th>CI95%</th>\n",
       "      <th>r2</th>\n",
       "      <th>adj_r2</th>\n",
       "      <th>p-val</th>\n",
       "      <th>power</th>\n",
       "    </tr>\n",
       "  </thead>\n",
       "  <tbody>\n",
       "    <tr>\n",
       "      <th>spearman</th>\n",
       "      <td>183</td>\n",
       "      <td>-0.075</td>\n",
       "      <td>[-0.22, 0.07]</td>\n",
       "      <td>0.006</td>\n",
       "      <td>-0.005</td>\n",
       "      <td>0.312903</td>\n",
       "      <td>0.173</td>\n",
       "    </tr>\n",
       "  </tbody>\n",
       "</table>\n",
       "</div>"
      ],
      "text/plain": [
       "            n      r          CI95%     r2  adj_r2     p-val  power\n",
       "spearman  183 -0.075  [-0.22, 0.07]  0.006  -0.005  0.312903  0.173"
      ]
     },
     "execution_count": 91,
     "metadata": {},
     "output_type": "execute_result"
    }
   ],
   "source": [
    "corr(titanic['Age'], titanic['Fare'],method = 'spearman')\n",
    "#H0 : Tidak ada hubungan secara non-linier (kalau spearman)\n",
    "#H0 : Tidak ada hubungan secara linier (Kalau Pearson)"
   ]
  },
  {
   "cell_type": "code",
   "execution_count": 88,
   "metadata": {
    "ExecuteTime": {
     "end_time": "2020-06-24T10:55:40.180545Z",
     "start_time": "2020-06-24T10:55:39.172967Z"
    },
    "scrolled": true
   },
   "outputs": [
    {
     "data": {
      "text/plain": [
       "<matplotlib.axes._subplots.AxesSubplot at 0x7f05f7b91b10>"
      ]
     },
     "execution_count": 88,
     "metadata": {},
     "output_type": "execute_result"
    },
    {
     "data": {
      "image/png": "[encoded data removed]",
      "text/plain": [
       "<Figure size 864x576 with 2 Axes>"
      ]
     },
     "metadata": {},
     "output_type": "display_data"
    }
   ],
   "source": [
    "plt.figure(figsize = (12,8))\n",
    "sns.heatmap(titanic.corr('spearman'), annot = True)"
   ]
  },
  {
   "cell_type": "markdown",
   "metadata": {},
   "source": [
    "## Cramers_v and Correlation_ratio"
   ]
  },
  {
   "cell_type": "code",
   "execution_count": 93,
   "metadata": {
    "ExecuteTime": {
     "end_time": "2020-06-24T10:57:32.249339Z",
     "start_time": "2020-06-24T10:57:32.213689Z"
    }
   },
   "outputs": [],
   "source": [
    "import scipy.stats as ss\n",
    "\n",
    "#Correlation measurement untuk data discrete dan continous\n",
    "def correlation_ratio(categories, measurement):\n",
    "    fcat,_ = pd.factorize(categories)\n",
    "    cat_num = np.max(fcat)+1\n",
    "    y_avg_array = np.zeros(cat_num)\n",
    "    n_array = np.zeros(cat_num)\n",
    "    for i in range(0, cat_num):\n",
    "        cat_measures = measurement[np.argwhere(fcat == i).flatten()]\n",
    "        n_array[i] = len(cat_measures)\n",
    "        y_avg_array[i] = np.average(cat_measures)\n",
    "    y_total_avg = np.sum(np.multiply(y_avg_array,n_array))/np.sum(n_array)\n",
    "    numerator = np.sum(np.multiply(n_array,np.power(np.subtract(y_avg_array, y_total_avg),2)))\n",
    "    denominator = np.sum(np.power(np.subtract(measurement,y_total_avg),2))\n",
    "    if numerator == 0:\n",
    "        eta = 0.0\n",
    "    else:\n",
    "        eta = np.sqrt(numerator/denominator)\n",
    "    return eta\n",
    "\n",
    "#Correlation measurement untuk data discrete dan discrete\n",
    "def cramers_v(x, y):\n",
    "    confusion_matrix = pd.crosstab(x,y)\n",
    "    chi2 = ss.chi2_contingency(confusion_matrix)[0]\n",
    "    n = confusion_matrix.sum().sum()\n",
    "    phi2 = chi2/n\n",
    "    r,k = confusion_matrix.shape\n",
    "    phi2corr = max(0, phi2-((k-1)*(r-1))/(n-1))\n",
    "    rcorr = r - ((r-1)**2)/(n-1)\n",
    "    kcorr = k - ((k-1)**2)/(n-1)\n",
    "    return np.sqrt(phi2corr/min((kcorr-1),(rcorr-1)))"
   ]
  },
  {
   "cell_type": "markdown",
   "metadata": {},
   "source": [
    "### Correlation Ratio (Correlation Between Categorical Feature and Continous Feature)\n",
    "\n",
    "But what about a pair of a continuous feature and a categorical feature? For this, we can use the Correlation Ratio (often marked using the greek letter eta).\n",
    "\n",
    "Mathematically, it is defined as the weighted variance of the mean of each category divided by the variance of all samples; in human language, the Correlation Ratio answers the following question: **Given a continuous number how well can you know to which category it belongs to?**, Just like the two coefficients we’ve seen before, here too the output is on the range of [0,1]."
   ]
  },
  {
   "cell_type": "code",
   "execution_count": 105,
   "metadata": {
    "ExecuteTime": {
     "end_time": "2020-06-24T11:02:40.435960Z",
     "start_time": "2020-06-24T11:02:40.431740Z"
    }
   },
   "outputs": [],
   "source": [
    "# correlation_ratio(titanic['Embarked'], titanic['Age'])\n",
    "#Correlation_ratio menghasilkan value antar 0 hingga 1\n",
    "#Semakin mendekati 0 tidak ada hubungannya\n",
    "#Semakin mendekati 1 ada hubungannya"
   ]
  },
  {
   "cell_type": "markdown",
   "metadata": {},
   "source": [
    "### Cramers Correlation (Categorical Features Correlation)\n",
    "\n",
    "It is based on a nominal variation of Pearson’s Chi-Square Test, and comes built-in with some great benefits:\n",
    "\n",
    "-    Similarly to correlation, the output is in the range of [0,1], where **0 means no association and 1 is full association**. (Unlike correlation, there are no negative values, as there’s no such thing as a negative association. Either there is, or there isn’t)\n",
    "-    Like correlation, Cramer’s V is symmetrical — it is insensitive to swapping x and y"
   ]
  },
  {
   "cell_type": "code",
   "execution_count": 106,
   "metadata": {
    "ExecuteTime": {
     "end_time": "2020-06-24T11:02:58.491454Z",
     "start_time": "2020-06-24T11:02:58.439303Z"
    }
   },
   "outputs": [
    {
     "data": {
      "text/plain": [
       "0.0"
      ]
     },
     "execution_count": 106,
     "metadata": {},
     "output_type": "execute_result"
    }
   ],
   "source": [
    "cramers_v(titanic['Embarked'], titanic['Sex'])\n",
    "#Cramers_v menghasilkan value antar 0 hingga 1\n",
    "#Semakin mendekati 0 tidak ada hubungannya\n",
    "#Semakin mendekati 1 ada hubungannya"
   ]
  },
  {
   "cell_type": "markdown",
   "metadata": {},
   "source": [
    "## Chi-Squared (Significance Test between Cateorical Features)\n",
    "\n",
    "The Pearson chi-square test essentially tells us whether the results of a crosstab are statistically significant. \n",
    "\n",
    ">That is, are the TWO categorical variables independent (unrelated) of one another. <b>So basically, the chi square test is a correlation test for CATEGORICAL variables.</b> \n",
    "\n",
    "Interpretation: \n",
    "\n",
    "* We test the null hypothesis that nothing interesting is happening (i.e., there is no relationship) versus alternative hypothesis that findings are interesting (i.e., there is a relationship).\n",
    "* The null hypothesis can only be rejected if there is a .05 or lower probability that our findings are due to chance "
   ]
  },
  {
   "cell_type": "code",
   "execution_count": 108,
   "metadata": {
    "ExecuteTime": {
     "end_time": "2020-06-24T11:04:46.688846Z",
     "start_time": "2020-06-24T11:04:46.610780Z"
    }
   },
   "outputs": [
    {
     "data": {
      "text/html": [
       "<div>\n",
       "<style scoped>\n",
       "    .dataframe tbody tr th:only-of-type {\n",
       "        vertical-align: middle;\n",
       "    }\n",
       "\n",
       "    .dataframe tbody tr th {\n",
       "        vertical-align: top;\n",
       "    }\n",
       "\n",
       "    .dataframe thead th {\n",
       "        text-align: right;\n",
       "    }\n",
       "</style>\n",
       "<table border=\"1\" class=\"dataframe\">\n",
       "  <thead>\n",
       "    <tr style=\"text-align: right;\">\n",
       "      <th>Pclass</th>\n",
       "      <th>1</th>\n",
       "      <th>2</th>\n",
       "      <th>3</th>\n",
       "    </tr>\n",
       "    <tr>\n",
       "      <th>Age</th>\n",
       "      <th></th>\n",
       "      <th></th>\n",
       "      <th></th>\n",
       "    </tr>\n",
       "  </thead>\n",
       "  <tbody>\n",
       "    <tr>\n",
       "      <th>0.92</th>\n",
       "      <td>1</td>\n",
       "      <td>0</td>\n",
       "      <td>0</td>\n",
       "    </tr>\n",
       "    <tr>\n",
       "      <th>1.00</th>\n",
       "      <td>0</td>\n",
       "      <td>1</td>\n",
       "      <td>0</td>\n",
       "    </tr>\n",
       "    <tr>\n",
       "      <th>2.00</th>\n",
       "      <td>1</td>\n",
       "      <td>1</td>\n",
       "      <td>1</td>\n",
       "    </tr>\n",
       "    <tr>\n",
       "      <th>3.00</th>\n",
       "      <td>0</td>\n",
       "      <td>1</td>\n",
       "      <td>0</td>\n",
       "    </tr>\n",
       "    <tr>\n",
       "      <th>4.00</th>\n",
       "      <td>1</td>\n",
       "      <td>1</td>\n",
       "      <td>1</td>\n",
       "    </tr>\n",
       "    <tr>\n",
       "      <th>...</th>\n",
       "      <td>...</td>\n",
       "      <td>...</td>\n",
       "      <td>...</td>\n",
       "    </tr>\n",
       "    <tr>\n",
       "      <th>64.00</th>\n",
       "      <td>1</td>\n",
       "      <td>0</td>\n",
       "      <td>0</td>\n",
       "    </tr>\n",
       "    <tr>\n",
       "      <th>65.00</th>\n",
       "      <td>2</td>\n",
       "      <td>0</td>\n",
       "      <td>0</td>\n",
       "    </tr>\n",
       "    <tr>\n",
       "      <th>70.00</th>\n",
       "      <td>1</td>\n",
       "      <td>0</td>\n",
       "      <td>0</td>\n",
       "    </tr>\n",
       "    <tr>\n",
       "      <th>71.00</th>\n",
       "      <td>1</td>\n",
       "      <td>0</td>\n",
       "      <td>0</td>\n",
       "    </tr>\n",
       "    <tr>\n",
       "      <th>80.00</th>\n",
       "      <td>1</td>\n",
       "      <td>0</td>\n",
       "      <td>0</td>\n",
       "    </tr>\n",
       "  </tbody>\n",
       "</table>\n",
       "<p>63 rows × 3 columns</p>\n",
       "</div>"
      ],
      "text/plain": [
       "Pclass  1  2  3\n",
       "Age            \n",
       "0.92    1  0  0\n",
       "1.00    0  1  0\n",
       "2.00    1  1  1\n",
       "3.00    0  1  0\n",
       "4.00    1  1  1\n",
       "...    .. .. ..\n",
       "64.00   1  0  0\n",
       "65.00   2  0  0\n",
       "70.00   1  0  0\n",
       "71.00   1  0  0\n",
       "80.00   1  0  0\n",
       "\n",
       "[63 rows x 3 columns]"
      ]
     },
     "execution_count": 108,
     "metadata": {},
     "output_type": "execute_result"
    }
   ],
   "source": [
    "from scipy.stats import chi2_contingency\n",
    "\n",
    "pd.crosstab(titanic['Age'], titanic['Pclass'])"
   ]
  },
  {
   "cell_type": "code",
   "execution_count": 109,
   "metadata": {
    "ExecuteTime": {
     "end_time": "2020-06-24T11:05:06.931314Z",
     "start_time": "2020-06-24T11:05:06.865696Z"
    }
   },
   "outputs": [
    {
     "data": {
      "text/plain": [
       "(154.66573008566678,\n",
       " 0.032294501524443436,\n",
       " 124,\n",
       " array([[0.86338798, 0.08196721, 0.05464481],\n",
       "        [0.86338798, 0.08196721, 0.05464481],\n",
       "        [2.59016393, 0.24590164, 0.16393443],\n",
       "        [0.86338798, 0.08196721, 0.05464481],\n",
       "        [2.59016393, 0.24590164, 0.16393443],\n",
       "        [0.86338798, 0.08196721, 0.05464481],\n",
       "        [0.86338798, 0.08196721, 0.05464481],\n",
       "        [0.86338798, 0.08196721, 0.05464481],\n",
       "        [0.86338798, 0.08196721, 0.05464481],\n",
       "        [2.59016393, 0.24590164, 0.16393443],\n",
       "        [2.59016393, 0.24590164, 0.16393443],\n",
       "        [3.45355191, 0.32786885, 0.21857923],\n",
       "        [5.18032787, 0.49180328, 0.32786885],\n",
       "        [2.59016393, 0.24590164, 0.16393443],\n",
       "        [2.59016393, 0.24590164, 0.16393443],\n",
       "        [3.45355191, 0.32786885, 0.21857923],\n",
       "        [7.7704918 , 0.73770492, 0.49180328],\n",
       "        [3.45355191, 0.32786885, 0.21857923],\n",
       "        [0.86338798, 0.08196721, 0.05464481],\n",
       "        [4.31693989, 0.40983607, 0.27322404],\n",
       "        [1.72677596, 0.16393443, 0.10928962],\n",
       "        [4.31693989, 0.40983607, 0.27322404],\n",
       "        [3.45355191, 0.32786885, 0.21857923],\n",
       "        [4.31693989, 0.40983607, 0.27322404],\n",
       "        [2.59016393, 0.24590164, 0.16393443],\n",
       "        [0.86338798, 0.08196721, 0.05464481],\n",
       "        [3.45355191, 0.32786885, 0.21857923],\n",
       "        [1.72677596, 0.16393443, 0.10928962],\n",
       "        [5.18032787, 0.49180328, 0.32786885],\n",
       "        [9.49726776, 0.90163934, 0.6010929 ],\n",
       "        [0.86338798, 0.08196721, 0.05464481],\n",
       "        [2.59016393, 0.24590164, 0.16393443],\n",
       "        [3.45355191, 0.32786885, 0.21857923],\n",
       "        [4.31693989, 0.40983607, 0.27322404],\n",
       "        [3.45355191, 0.32786885, 0.21857923],\n",
       "        [0.86338798, 0.08196721, 0.05464481],\n",
       "        [2.59016393, 0.24590164, 0.16393443],\n",
       "        [0.86338798, 0.08196721, 0.05464481],\n",
       "        [2.59016393, 0.24590164, 0.16393443],\n",
       "        [2.59016393, 0.24590164, 0.16393443],\n",
       "        [0.86338798, 0.08196721, 0.05464481],\n",
       "        [1.72677596, 0.16393443, 0.10928962],\n",
       "        [4.31693989, 0.40983607, 0.27322404],\n",
       "        [4.31693989, 0.40983607, 0.27322404],\n",
       "        [4.31693989, 0.40983607, 0.27322404],\n",
       "        [3.45355191, 0.32786885, 0.21857923],\n",
       "        [1.72677596, 0.16393443, 0.10928962],\n",
       "        [3.45355191, 0.32786885, 0.21857923],\n",
       "        [0.86338798, 0.08196721, 0.05464481],\n",
       "        [2.59016393, 0.24590164, 0.16393443],\n",
       "        [0.86338798, 0.08196721, 0.05464481],\n",
       "        [2.59016393, 0.24590164, 0.16393443],\n",
       "        [0.86338798, 0.08196721, 0.05464481],\n",
       "        [4.31693989, 0.40983607, 0.27322404],\n",
       "        [1.72677596, 0.16393443, 0.10928962],\n",
       "        [1.72677596, 0.16393443, 0.10928962],\n",
       "        [0.86338798, 0.08196721, 0.05464481],\n",
       "        [0.86338798, 0.08196721, 0.05464481],\n",
       "        [0.86338798, 0.08196721, 0.05464481],\n",
       "        [1.72677596, 0.16393443, 0.10928962],\n",
       "        [0.86338798, 0.08196721, 0.05464481],\n",
       "        [0.86338798, 0.08196721, 0.05464481],\n",
       "        [0.86338798, 0.08196721, 0.05464481]]))"
      ]
     },
     "execution_count": 109,
     "metadata": {},
     "output_type": "execute_result"
    }
   ],
   "source": [
    "# Biasanya chi2 dipakai untuk categorical dengan categorical.\n",
    "\n",
    "chi2_contingency(pd.crosstab(titanic['Age'], titanic['Pclass']))\n",
    "#H0: Tidak ada hubungan atau tidak ada pengaruh satu sama lain\n",
    "#H1: Ada pengaruh atau ada hubungan\n",
    "\n",
    "# matriks dibawah adalah teorinya atau ekpektasinya. \n",
    "#Sedangkan pd.crosstab di atas, adalah observasinya."
   ]
  },
  {
   "cell_type": "code",
   "execution_count": 111,
   "metadata": {
    "ExecuteTime": {
     "end_time": "2020-06-24T11:07:22.437944Z",
     "start_time": "2020-06-24T11:07:22.378715Z"
    }
   },
   "outputs": [
    {
     "name": "stdout",
     "output_type": "stream",
     "text": [
      "P-Value = 0.032294501524443436\n"
     ]
    }
   ],
   "source": [
    "print('P-Value = {}'.format(chi2_contingency(pd.crosstab(titanic['Age'], titanic['Pclass']))\n",
    "[1]))"
   ]
  },
  {
   "cell_type": "code",
   "execution_count": 110,
   "metadata": {
    "ExecuteTime": {
     "end_time": "2020-06-24T11:05:34.085001Z",
     "start_time": "2020-06-24T11:05:34.051896Z"
    }
   },
   "outputs": [
    {
     "data": {
      "text/html": [
       "<div>\n",
       "<style scoped>\n",
       "    .dataframe tbody tr th:only-of-type {\n",
       "        vertical-align: middle;\n",
       "    }\n",
       "\n",
       "    .dataframe tbody tr th {\n",
       "        vertical-align: top;\n",
       "    }\n",
       "\n",
       "    .dataframe thead th {\n",
       "        text-align: right;\n",
       "    }\n",
       "</style>\n",
       "<table border=\"1\" class=\"dataframe\">\n",
       "  <thead>\n",
       "    <tr style=\"text-align: right;\">\n",
       "      <th></th>\n",
       "      <th>C</th>\n",
       "      <th>Q</th>\n",
       "      <th>S</th>\n",
       "    </tr>\n",
       "  </thead>\n",
       "  <tbody>\n",
       "    <tr>\n",
       "      <th>1</th>\n",
       "      <td>1</td>\n",
       "      <td>0</td>\n",
       "      <td>0</td>\n",
       "    </tr>\n",
       "    <tr>\n",
       "      <th>3</th>\n",
       "      <td>0</td>\n",
       "      <td>0</td>\n",
       "      <td>1</td>\n",
       "    </tr>\n",
       "    <tr>\n",
       "      <th>6</th>\n",
       "      <td>0</td>\n",
       "      <td>0</td>\n",
       "      <td>1</td>\n",
       "    </tr>\n",
       "    <tr>\n",
       "      <th>10</th>\n",
       "      <td>0</td>\n",
       "      <td>0</td>\n",
       "      <td>1</td>\n",
       "    </tr>\n",
       "    <tr>\n",
       "      <th>11</th>\n",
       "      <td>0</td>\n",
       "      <td>0</td>\n",
       "      <td>1</td>\n",
       "    </tr>\n",
       "    <tr>\n",
       "      <th>...</th>\n",
       "      <td>...</td>\n",
       "      <td>...</td>\n",
       "      <td>...</td>\n",
       "    </tr>\n",
       "    <tr>\n",
       "      <th>871</th>\n",
       "      <td>0</td>\n",
       "      <td>0</td>\n",
       "      <td>1</td>\n",
       "    </tr>\n",
       "    <tr>\n",
       "      <th>872</th>\n",
       "      <td>0</td>\n",
       "      <td>0</td>\n",
       "      <td>1</td>\n",
       "    </tr>\n",
       "    <tr>\n",
       "      <th>879</th>\n",
       "      <td>1</td>\n",
       "      <td>0</td>\n",
       "      <td>0</td>\n",
       "    </tr>\n",
       "    <tr>\n",
       "      <th>887</th>\n",
       "      <td>0</td>\n",
       "      <td>0</td>\n",
       "      <td>1</td>\n",
       "    </tr>\n",
       "    <tr>\n",
       "      <th>889</th>\n",
       "      <td>1</td>\n",
       "      <td>0</td>\n",
       "      <td>0</td>\n",
       "    </tr>\n",
       "  </tbody>\n",
       "</table>\n",
       "<p>183 rows × 3 columns</p>\n",
       "</div>"
      ],
      "text/plain": [
       "     C  Q  S\n",
       "1    1  0  0\n",
       "3    0  0  1\n",
       "6    0  0  1\n",
       "10   0  0  1\n",
       "11   0  0  1\n",
       "..  .. .. ..\n",
       "871  0  0  1\n",
       "872  0  0  1\n",
       "879  1  0  0\n",
       "887  0  0  1\n",
       "889  1  0  0\n",
       "\n",
       "[183 rows x 3 columns]"
      ]
     },
     "execution_count": 110,
     "metadata": {},
     "output_type": "execute_result"
    }
   ],
   "source": [
    "dummies = pd.get_dummies(titanic['Embarked'])\n",
    "dummies\n",
    "#One-hot encoding"
   ]
  },
  {
   "cell_type": "code",
   "execution_count": null,
   "metadata": {},
   "outputs": [],
   "source": []
  }
 ],
 "metadata": {
  "kernelspec": {
   "display_name": "Python 3",
   "language": "python",
   "name": "python3"
  },
  "language_info": {
   "codemirror_mode": {
    "name": "ipython",
    "version": 3
   },
   "file_extension": ".py",
   "mimetype": "text/x-python",
   "name": "python",
   "nbconvert_exporter": "python",
   "pygments_lexer": "ipython3",
   "version": "3.7.7"
  },
  "toc": {
   "base_numbering": 1,
   "nav_menu": {},
   "number_sections": true,
   "sideBar": true,
   "skip_h1_title": false,
   "title_cell": "Table of Contents",
   "title_sidebar": "Contents",
   "toc_cell": false,
   "toc_position": {},
   "toc_section_display": true,
   "toc_window_display": true
  }
 },
 "nbformat": 4,
 "nbformat_minor": 4
}
