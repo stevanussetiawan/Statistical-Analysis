{
 "cells": [
  {
   "cell_type": "markdown",
   "metadata": {},
   "source": [
    "# Data Visualization\n",
    "\n",
    "# **Boxplot**\n",
    "\n",
    "<hr>"
   ]
  },
  {
   "cell_type": "markdown",
   "metadata": {},
   "source": [
    "``A box plot (also known as box and whisker plot) is a type of chart often used in explanatory data analysis to visually show the distribution of numerical data and skewness through displaying the data quartiles (or percentiles) and averages.``\n",
    "\n",
    "``Box plots show the five-number summary of a set of data: including the minimum score, first (lower) quartile, median, third (upper) quartile, and maximum score.``\n",
    "\n",
    "In descriptive statistics, a box plot or boxplot is a method for graphically depicting groups of numerical data through their quartiles. Box plots may also have lines extending from the boxes (whiskers) indicating variability outside the upper and lower quartiles, hence the terms box-and-whisker plot and box-and-whisker diagram. Outliers may be plotted as individual points. Box plots are non-parametric: they display variation in samples of a statistical population without making any assumptions of the underlying statistical distribution (though Tukey's boxplot assumes symmetry for the whiskers and normality for their length). \n",
    "\n",
    "The spacings between the different parts of the box indicate the degree of dispersion (spread) and skewness in the data, and show outliers. In addition to the points themselves, they allow one to visually estimate various L-estimators, notably the interquartile range, midhinge, range, mid-range, and trimean. Box plots can be drawn either horizontally or vertically. Box plots received their name from the box in the middle. "
   ]
  },
  {
   "cell_type": "markdown",
   "metadata": {},
   "source": [
    "## **Elements of a box plot**\n",
    "\n",
    "<img src=\"https://miro.medium.com/max/1400/1*2c21SkzJMf3frPXPAR_gZA.png\" width=\"800\" height=\"800\">\n",
    "\n",
    "A boxplot is a standardized way of displaying the dataset based on a five-number summary: the minimum, the maximum, the sample median, and the first and third quartiles.\n",
    "\n",
    "**Minimum** : the lowest data point excluding any outliers.\n",
    "\n",
    "**Maximum** : the largest data point excluding any outliers.\n",
    "\n",
    "**Median (Q2 / 50th Percentile)** : the middle value of the dataset.\n",
    "\n",
    "**First quartile (Q1 / 25th Percentile)** : also known as the lower quartile qn(0.25), is the median of the lower half of the dataset.\n",
    "\n",
    "**Third quartile (Q3 / 75th Percentile)** : also known as the upper quartile qn(0.75), is the median of the upper half of the dataset.[4]\n",
    "\n",
    "An important element used to construct the box plot by determining the minimum and maximum data values feasible, but is not part of the aforementioned five-number summary, is the interquartile range or IQR denoted below:\n",
    "\n",
    "**Interquartile Range (IQR)** : is the distance between the upper and lower quartile. \n",
    "``IQR = Q3 - Q1``\n",
    "\n",
    "<img src=\"https://miro.medium.com/max/1400/1*NRlqiZGQdsIyAu0KzP7LaQ.png\" width=\"800\" height=\"800\"/>"
   ]
  },
  {
   "cell_type": "markdown",
   "metadata": {},
   "source": [
    "The image above is a comparison of a boxplot of a nearly normal distribution and the probability density function (pdf) for a normal distribution. The reason why I am showing you this image is that looking at a statistical distribution is more commonplace than looking at a box plot. In other words, it might help you understand a boxplot."
   ]
  },
  {
   "cell_type": "markdown",
   "metadata": {},
   "source": [
    "<hr>\n",
    "\n",
    "# __Information from Boxplot__\n",
    "\n",
    "### ``1. Box plots are useful as they show the average score of a data set``\n",
    "The median is the average value from a set of data and is shown by the line that divides the box into two parts. Half the scores are greater than or equal to this value and half are less.\n",
    "\n",
    "### ``2. Box plots are useful as they show the skewness of a data set``\n",
    "The box plot shape will show if a statistical data set is normally distributed or skewed.\n",
    "\n",
    "<img src = 'a_img.png'>\n",
    "\n",
    "When the median is in the middle of the box, and the whiskers are about the same on both sides of the box, then the distribution is symmetric.\n",
    "\n",
    "When the median is closer to the bottom of the box, and if the whisker is shorter on the lower end of the box, then the distribution is positively skewed (skewed right).\n",
    "\n",
    "When the median is closer to the top of the box, and if the whisker is shorter on the upper end of the box, then the distribution is negatively skewed (skewed left). \n",
    "\n",
    "### ``3. Box plots are useful as they show the dispersion of a data set``\n",
    "In statistics, dispersion (also called variability, scatter, or spread) is the extent to which a distribution is stretched or squeezed.\n",
    "\n",
    "The smallest value and largest value are found at the end of the ‘whiskers’ and are useful for providing a visual indicator regarding the spread of scores (e.g. the range). \n",
    "\n",
    "<img src='b_img.png'>\n",
    "\n",
    "The interquartile range (IQR) is the box plot showing the middle 50% of scores and can be calculated by subtracting the lower quartile from the upper quartile (e.g. Q3−Q1). \n",
    "\n",
    "### ``4. Box plots are useful as they show outliers within a data set``\n",
    "An outlier is an observation that is numerically distant from the rest of the data.\n",
    "\n",
    "When reviewing a box plot, an outlier is defined as a data point that is located outside the whiskers of the box plot.\n",
    "\n",
    "<img src=\"https://miro.medium.com/max/1400/1*2c21SkzJMf3frPXPAR_gZA.png\" width=\"800\" height=\"800\">\n",
    "\n",
    "For example, outside 1.5 times the interquartile range above the upper quartile and below the lower quartile (Q1 - 1.5 * IQR or Q3 + 1.5 * IQR)."
   ]
  },
  {
   "cell_type": "markdown",
   "metadata": {},
   "source": [
    "<hr>\n",
    "\n",
    "## **Probability Density Function**\n",
    "\n",
    "To be able to understand where the percentages come from, it is important to know about the probability density function (PDF). __A PDF is used to specify the probability of the random variable falling within a particular range of values__, as opposed to taking on any one value. \n",
    "\n",
    "This probability is given by the integral of this variable’s PDF over that range — that is, it is given by the area under the density function but above the horizontal axis and between the lowest and greatest values of the range. This definition might not make much sense so let’s clear it up by graphing the probability density function for a normal distribution. The equation below is the probability density function for a normal distribution\n",
    "\n",
    "<img src=\"https://miro.medium.com/max/876/1*vsffj5SW9yogInxScmHRRQ.png\" width=\"500\" height=\"100\"/>\n",
    "\n",
    "Let’s simplify it by assuming we have a mean (μ) of 0 and a standard deviation (σ) of 1.\n",
    "\n",
    "<img src=\"https://miro.medium.com/max/208/1*fEj9irMgpxWWdWxCNEsDqQ.png\" width=\"300\" height=\"100\"/>\n",
    "\n",
    "This can be graphed using anything, but I choose to graph it using Python.\n",
    "\n"
   ]
  },
  {
   "cell_type": "code",
   "execution_count": 4,
   "metadata": {},
   "outputs": [
    {
     "data": {
      "image/png": "[encoded data removed]",
      "text/plain": [
       "<Figure size 720x360 with 1 Axes>"
      ]
     },
     "metadata": {
      "needs_background": "light"
     },
     "output_type": "display_data"
    }
   ],
   "source": [
    "# Import all libraries for this portion of the blog post\n",
    "from scipy.integrate import quad\n",
    "import numpy as np\n",
    "import matplotlib.pyplot as plt\n",
    "%matplotlib inline\n",
    "\n",
    "x = np.linspace(-4, 4, num = 100)\n",
    "constant = 1.0 / np.sqrt(2*np.pi)\n",
    "pdf_normal_distribution = constant * np.exp((-x**2) / 2.0)\n",
    "fig, ax = plt.subplots(figsize=(10, 5));\n",
    "ax.plot(x, pdf_normal_distribution);\n",
    "ax.set_ylim(0);\n",
    "ax.set_title('Normal Distribution', size = 20);\n",
    "ax.set_ylabel('Probability Density', size = 20);"
   ]
  },
  {
   "cell_type": "code",
   "execution_count": 5,
   "metadata": {},
   "outputs": [
    {
     "name": "stdout",
     "output_type": "stream",
     "text": [
      "0.5000065142726018\n"
     ]
    }
   ],
   "source": [
    "# Make PDF for the normal distribution a function\n",
    "def normalProbabilityDensity(x):\n",
    "    constant = 1.0 / np.sqrt(2*np.pi)\n",
    "    return(constant * np.exp((-x**2) / 2.0) )# Integrate PDF from -.6745 to .6745\n",
    "result_50p, _ = quad(normalProbabilityDensity, -.6745, .6745, limit = 1000)\n",
    "print(result_50p)"
   ]
  },
  {
   "cell_type": "code",
   "execution_count": 6,
   "metadata": {},
   "outputs": [
    {
     "name": "stdout",
     "output_type": "stream",
     "text": [
      "0.9930242559336101\n"
     ]
    }
   ],
   "source": [
    "# Make a PDF for the normal distribution a function\n",
    "def normalProbabilityDensity(x):\n",
    "    constant = 1.0 / np.sqrt(2*np.pi)\n",
    "    return(constant * np.exp((-x**2) / 2.0) )# Integrate PDF from -2.698 to 2.698\n",
    "result_99_3p, _ = quad(normalProbabilityDensity,\n",
    "                     -2.698,\n",
    "                     2.698,\n",
    "                     limit = 1000)\n",
    "print(result_99_3p)"
   ]
  },
  {
   "cell_type": "markdown",
   "metadata": {},
   "source": [
    "<hr>\n",
    "\n",
    "# ``How to Create Boxplot?``\n",
    "\n",
    "## Mini Activity\n",
    "#### Group 1: Create Boxplot using Seaborn in df['Age']\n",
    "#### Group 2: Create Boxplot using Matplotlib in df['Weight']\n",
    "#### Group 3: Create Boxplot using Pandas in df['Salary']\n",
    "\n",
    "# Information\n",
    "### 1. Median\n",
    "### 2. Skewness\n",
    "### 3. Dipersion (Count IQR)\n",
    "### 4. Find Outliers\n",
    "\n",
    "\n",
    "\n",
    "<hr>\n",
    "\n",
    "## __NBA Dataset__"
   ]
  },
  {
   "cell_type": "code",
   "execution_count": 7,
   "metadata": {},
   "outputs": [],
   "source": [
    "import pandas as pd\n",
    "import numpy as np\n",
    "import seaborn as sns\n",
    "import matplotlib.pyplot as plt"
   ]
  },
  {
   "cell_type": "code",
   "execution_count": 8,
   "metadata": {},
   "outputs": [
    {
     "data": {
      "text/html": [
       "<div>\n",
       "<style scoped>\n",
       "    .dataframe tbody tr th:only-of-type {\n",
       "        vertical-align: middle;\n",
       "    }\n",
       "\n",
       "    .dataframe tbody tr th {\n",
       "        vertical-align: top;\n",
       "    }\n",
       "\n",
       "    .dataframe thead th {\n",
       "        text-align: right;\n",
       "    }\n",
       "</style>\n",
       "<table border=\"1\" class=\"dataframe\">\n",
       "  <thead>\n",
       "    <tr style=\"text-align: right;\">\n",
       "      <th></th>\n",
       "      <th>Name</th>\n",
       "      <th>Team</th>\n",
       "      <th>Number</th>\n",
       "      <th>Position</th>\n",
       "      <th>Age</th>\n",
       "      <th>Height</th>\n",
       "      <th>Weight</th>\n",
       "      <th>College</th>\n",
       "      <th>Salary</th>\n",
       "    </tr>\n",
       "  </thead>\n",
       "  <tbody>\n",
       "    <tr>\n",
       "      <th>0</th>\n",
       "      <td>Avery Bradley</td>\n",
       "      <td>Boston Celtics</td>\n",
       "      <td>0.0</td>\n",
       "      <td>PG</td>\n",
       "      <td>25.0</td>\n",
       "      <td>6-2</td>\n",
       "      <td>180.0</td>\n",
       "      <td>Texas</td>\n",
       "      <td>7730337.0</td>\n",
       "    </tr>\n",
       "    <tr>\n",
       "      <th>1</th>\n",
       "      <td>Jae Crowder</td>\n",
       "      <td>Boston Celtics</td>\n",
       "      <td>99.0</td>\n",
       "      <td>SF</td>\n",
       "      <td>25.0</td>\n",
       "      <td>6-6</td>\n",
       "      <td>235.0</td>\n",
       "      <td>Marquette</td>\n",
       "      <td>6796117.0</td>\n",
       "    </tr>\n",
       "    <tr>\n",
       "      <th>2</th>\n",
       "      <td>John Holland</td>\n",
       "      <td>Boston Celtics</td>\n",
       "      <td>30.0</td>\n",
       "      <td>SG</td>\n",
       "      <td>27.0</td>\n",
       "      <td>6-5</td>\n",
       "      <td>205.0</td>\n",
       "      <td>Boston University</td>\n",
       "      <td>NaN</td>\n",
       "    </tr>\n",
       "    <tr>\n",
       "      <th>3</th>\n",
       "      <td>R.J. Hunter</td>\n",
       "      <td>Boston Celtics</td>\n",
       "      <td>28.0</td>\n",
       "      <td>SG</td>\n",
       "      <td>22.0</td>\n",
       "      <td>6-5</td>\n",
       "      <td>185.0</td>\n",
       "      <td>Georgia State</td>\n",
       "      <td>1148640.0</td>\n",
       "    </tr>\n",
       "    <tr>\n",
       "      <th>4</th>\n",
       "      <td>Jonas Jerebko</td>\n",
       "      <td>Boston Celtics</td>\n",
       "      <td>8.0</td>\n",
       "      <td>PF</td>\n",
       "      <td>29.0</td>\n",
       "      <td>6-10</td>\n",
       "      <td>231.0</td>\n",
       "      <td>NaN</td>\n",
       "      <td>5000000.0</td>\n",
       "    </tr>\n",
       "  </tbody>\n",
       "</table>\n",
       "</div>"
      ],
      "text/plain": [
       "            Name            Team  Number Position   Age Height  Weight  \\\n",
       "0  Avery Bradley  Boston Celtics     0.0       PG  25.0    6-2   180.0   \n",
       "1    Jae Crowder  Boston Celtics    99.0       SF  25.0    6-6   235.0   \n",
       "2   John Holland  Boston Celtics    30.0       SG  27.0    6-5   205.0   \n",
       "3    R.J. Hunter  Boston Celtics    28.0       SG  22.0    6-5   185.0   \n",
       "4  Jonas Jerebko  Boston Celtics     8.0       PF  29.0   6-10   231.0   \n",
       "\n",
       "             College     Salary  \n",
       "0              Texas  7730337.0  \n",
       "1          Marquette  6796117.0  \n",
       "2  Boston University        NaN  \n",
       "3      Georgia State  1148640.0  \n",
       "4                NaN  5000000.0  "
      ]
     },
     "execution_count": 8,
     "metadata": {},
     "output_type": "execute_result"
    }
   ],
   "source": [
    "df = pd.read_csv('nba.csv')\n",
    "df.head()"
   ]
  },
  {
   "cell_type": "code",
   "execution_count": 9,
   "metadata": {},
   "outputs": [
    {
     "data": {
      "text/plain": [
       "Name         1\n",
       "Team         1\n",
       "Number       1\n",
       "Position     1\n",
       "Age          1\n",
       "Height       1\n",
       "Weight       1\n",
       "College     85\n",
       "Salary      12\n",
       "dtype: int64"
      ]
     },
     "execution_count": 9,
     "metadata": {},
     "output_type": "execute_result"
    }
   ],
   "source": [
    "df.isna().sum()"
   ]
  },
  {
   "cell_type": "code",
   "execution_count": 10,
   "metadata": {},
   "outputs": [],
   "source": [
    "df.dropna(inplace=True)"
   ]
  },
  {
   "cell_type": "code",
   "execution_count": 11,
   "metadata": {},
   "outputs": [
    {
     "data": {
      "text/plain": [
       "Name        0\n",
       "Team        0\n",
       "Number      0\n",
       "Position    0\n",
       "Age         0\n",
       "Height      0\n",
       "Weight      0\n",
       "College     0\n",
       "Salary      0\n",
       "dtype: int64"
      ]
     },
     "execution_count": 11,
     "metadata": {},
     "output_type": "execute_result"
    }
   ],
   "source": [
    "df.isna().sum()"
   ]
  },
  {
   "cell_type": "markdown",
   "metadata": {},
   "source": [
    "<hr>\n",
    "\n",
    "## **Finding Outliers Function**"
   ]
  },
  {
   "cell_type": "code",
   "execution_count": 6,
   "metadata": {},
   "outputs": [],
   "source": [
    "def find_outlier(yourList):\n",
    "    q1 = yourList.describe()['25%']\n",
    "    q2 = yourList.describe()['50%']\n",
    "    q3 = yourList.describe()['75%']\n",
    "    iqr = q3 - q1\n",
    "    batas_bawah = q1 - 1.5 * iqr\n",
    "    batas_atas = q3 + 1.5 * iqr\n",
    "    outlier = []\n",
    "    for i in yourList:\n",
    "        if i < batas_bawah or i > batas_atas:\n",
    "            outlier.append(i)\n",
    "    return outlier"
   ]
  },
  {
   "cell_type": "code",
   "execution_count": 7,
   "metadata": {},
   "outputs": [
    {
     "name": "stdout",
     "output_type": "stream",
     "text": [
      "[19689000.0, 22875000.0, 14260870.0, 15501000.0, 18907726.0, 19689000.0, 21468695.0, 15592217.0, 15851950.0, 16407500.0, 20093064.0, 16407501.0, 19689000.0, 14260870.0, 16000000.0, 13913044.0, 17120106.0, 14700000.0, 16407500.0, 16407500.0, 15361500.0, 15756438.0, 15514031.0, 19689000.0, 16407500.0, 18671659.0, 22192730.0, 20000000.0, 15851950.0, 20158622.0, 16407500.0, 16744218.0, 15409570.0]\n"
     ]
    }
   ],
   "source": [
    "print(find_outlier(df['Salary']))"
   ]
  },
  {
   "cell_type": "code",
   "execution_count": 8,
   "metadata": {},
   "outputs": [
    {
     "data": {
      "text/plain": [
       "55722.0"
      ]
     },
     "execution_count": 8,
     "metadata": {},
     "output_type": "execute_result"
    }
   ],
   "source": [
    "df['Salary'].describe()['min']"
   ]
  },
  {
   "cell_type": "markdown",
   "metadata": {},
   "source": [
    "<hr>\n",
    "\n",
    "# __How to create Boxplot__\n",
    "\n",
    "## 1. __Seaborn__"
   ]
  },
  {
   "cell_type": "code",
   "execution_count": 11,
   "metadata": {},
   "outputs": [
    {
     "data": {
      "text/plain": [
       "<matplotlib.axes._subplots.AxesSubplot at 0x12e2bfd0>"
      ]
     },
     "execution_count": 11,
     "metadata": {},
     "output_type": "execute_result"
    },
    {
     "data": {
      "image/png": "[encoded data removed]",
      "text/plain": [
       "<Figure size 432x288 with 1 Axes>"
      ]
     },
     "metadata": {
      "needs_background": "light"
     },
     "output_type": "display_data"
    }
   ],
   "source": [
    "sns.boxplot(x='Salary', data=df)"
   ]
  },
  {
   "cell_type": "markdown",
   "metadata": {},
   "source": [
    "## 2. __Matplotlib__"
   ]
  },
  {
   "cell_type": "code",
   "execution_count": 17,
   "metadata": {},
   "outputs": [
    {
     "data": {
      "image/png": "[encoded data removed]",
      "text/plain": [
       "<Figure size 504x360 with 1 Axes>"
      ]
     },
     "metadata": {
      "needs_background": "light"
     },
     "output_type": "display_data"
    }
   ],
   "source": [
    "# Normal Box Plot\n",
    "plt.figure(figsize = (7,5))\n",
    "plt.boxplot(df['Salary'])\n",
    "plt.show()"
   ]
  },
  {
   "cell_type": "code",
   "execution_count": 19,
   "metadata": {},
   "outputs": [
    {
     "data": {
      "image/png": "[encoded data removed]",
      "text/plain": [
       "<Figure size 504x360 with 1 Axes>"
      ]
     },
     "metadata": {
      "needs_background": "light"
     },
     "output_type": "display_data"
    }
   ],
   "source": [
    "# Notch Box Plot\n",
    "plt.figure(figsize = (7,5))\n",
    "plt.boxplot(df['Salary'], 1)\n",
    "plt.show()"
   ]
  },
  {
   "cell_type": "code",
   "execution_count": 21,
   "metadata": {},
   "outputs": [
    {
     "data": {
      "image/png": "[encoded data removed]",
      "text/plain": [
       "<Figure size 504x360 with 1 Axes>"
      ]
     },
     "metadata": {
      "needs_background": "light"
     },
     "output_type": "display_data"
    }
   ],
   "source": [
    "# Box Plot showing Outliers\n",
    "plt.figure(figsize = (7,5))\n",
    "plt.boxplot(df['Salary'], 0, 'gD')\n",
    "plt.show()"
   ]
  },
  {
   "cell_type": "code",
   "execution_count": 22,
   "metadata": {},
   "outputs": [
    {
     "data": {
      "image/png": "[encoded data removed]",
      "text/plain": [
       "<Figure size 504x360 with 1 Axes>"
      ]
     },
     "metadata": {
      "needs_background": "light"
     },
     "output_type": "display_data"
    }
   ],
   "source": [
    "# Box Plot without Outliers\n",
    "plt.figure(figsize = (7,5))\n",
    "plt.boxplot(df['Salary'], 0, '')\n",
    "plt.show()"
   ]
  },
  {
   "cell_type": "code",
   "execution_count": 26,
   "metadata": {},
   "outputs": [
    {
     "data": {
      "image/png": "[encoded data removed]",
      "text/plain": [
       "<Figure size 504x360 with 1 Axes>"
      ]
     },
     "metadata": {
      "needs_background": "light"
     },
     "output_type": "display_data"
    }
   ],
   "source": [
    "# Box Plot without Outliers\n",
    "plt.figure(figsize = (7,5))\n",
    "plt.boxplot(df['Salary'], 0, 'k', 0)\n",
    "plt.show()"
   ]
  },
  {
   "cell_type": "markdown",
   "metadata": {},
   "source": [
    "## 3. __Pandas__"
   ]
  },
  {
   "cell_type": "code",
   "execution_count": 14,
   "metadata": {},
   "outputs": [
    {
     "data": {
      "text/plain": [
       "<matplotlib.axes._subplots.AxesSubplot at 0x12ea1e20>"
      ]
     },
     "execution_count": 14,
     "metadata": {},
     "output_type": "execute_result"
    },
    {
     "data": {
      "image/png": "[encoded data removed]",
      "text/plain": [
       "<Figure size 432x288 with 1 Axes>"
      ]
     },
     "metadata": {
      "needs_background": "light"
     },
     "output_type": "display_data"
    }
   ],
   "source": [
    "df.boxplot(column='Salary')"
   ]
  },
  {
   "cell_type": "markdown",
   "metadata": {},
   "source": [
    "<hr>\n",
    "\n",
    "## **Reference**:\n",
    "- Wikipedia, \"Box plot\", https://en.wikipedia.org/wiki/Box_plot\n",
    "- Michael Galarnyk, \"Understanding Boxplots\", https://towardsdatascience.com/understanding-boxplots-5e2df7bcbd51\n",
    "- Saul McLeod, \"What does a box plot tell you?\", https://www.simplypsychology.org/boxplots.html\n",
    "- Seaborn, \"seaborn.boxplot\", http://seaborn.pydata.org/generated/seaborn.boxplot.html?highlight=box\n",
    "- Mohit Gupta_OMG, \"Understanding different Box Plot with visualization\", https://www.geeksforgeeks.org/understanding-different-box-plot-with-visualization/"
   ]
  }
 ],
 "metadata": {
  "kernelspec": {
   "display_name": "Python 3",
   "language": "python",
   "name": "python3"
  },
  "language_info": {
   "codemirror_mode": {
    "name": "ipython",
    "version": 3
   },
   "file_extension": ".py",
   "mimetype": "text/x-python",
   "name": "python",
   "nbconvert_exporter": "python",
   "pygments_lexer": "ipython3",
   "version": "3.7.7"
  },
  "toc": {
   "base_numbering": 1,
   "nav_menu": {},
   "number_sections": true,
   "sideBar": true,
   "skip_h1_title": false,
   "title_cell": "Table of Contents",
   "title_sidebar": "Contents",
   "toc_cell": false,
   "toc_position": {},
   "toc_section_display": true,
   "toc_window_display": false
  }
 },
 "nbformat": 4,
 "nbformat_minor": 4
}
